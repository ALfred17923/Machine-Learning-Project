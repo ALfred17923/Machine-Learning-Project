{
  "cells": [
    {
      "cell_type": "code",
      "execution_count": 1,
      "metadata": {
        "colab": {
          "base_uri": "https://localhost:8080/"
        },
        "id": "epibIWmYl3HU",
        "outputId": "e57ab7f9-633c-40b5-8e84-3188a8643c8d"
      },
      "outputs": [
        {
          "output_type": "stream",
          "name": "stdout",
          "text": [
            "Archive:  /content/digit-recognizer.zip\n",
            "  inflating: sample_submission.csv   \n",
            "  inflating: test.csv                \n",
            "  inflating: train.csv               \n"
          ]
        }
      ],
      "source": [
        "!unzip '/content/digit-recognizer.zip'"
      ]
    },
    {
      "cell_type": "markdown",
      "metadata": {
        "id": "wXaw1zCdmdCx"
      },
      "source": [
        "1.Load the Data and Library\n",
        "\n",
        "2.Quick Data Visualization\n",
        "\n",
        "3.Divide the Data inside X and Y(Image,Label)\n",
        "\n",
        "4.Divide Data into Train and Test\n",
        "\n",
        "5.Apply ML Alogorithm to Evaluvate\n",
        "\n",
        "6.apply Single Layer Persptron\n",
        "\n",
        "7.apply Multi Layer Persptron\n",
        "\n",
        "8.:implement Deep Learning using TensorFlow and Keras\n",
        "\n",
        "\n",
        "\n"
      ]
    },
    {
      "cell_type": "code",
      "execution_count": 2,
      "metadata": {
        "id": "A4tQvcH5mAhu"
      },
      "outputs": [],
      "source": [
        "import numpy as np\n",
        "import pandas as pd\n",
        "import matplotlib.pyplot as plt\n",
        "import seaborn as sns\n",
        "from sklearn.model_selection import train_test_split\n",
        "from sklearn.metrics import accuracy_score,classification_report,confusion_matrix\n",
        "from sklearn.ensemble import RandomForestClassifier,GradientBoostingClassifier\n",
        "from sklearn.linear_model import Perceptron\n",
        "from sklearn.neural_network import MLPClassifier"
      ]
    },
    {
      "cell_type": "code",
      "execution_count": 3,
      "metadata": {
        "id": "NhCDxSNOoaD3"
      },
      "outputs": [],
      "source": [
        "train=pd.read_csv('/content/train.csv')\n",
        "test=pd.read_csv('/content/test.csv')"
      ]
    },
    {
      "cell_type": "code",
      "execution_count": 4,
      "metadata": {
        "colab": {
          "base_uri": "https://localhost:8080/",
          "height": 255
        },
        "id": "fXSAUPbuohUG",
        "outputId": "d4be9a00-6809-4d50-b36c-09cf7dec3b97"
      },
      "outputs": [
        {
          "output_type": "execute_result",
          "data": {
            "text/plain": [
              "   label  pixel0  pixel1  pixel2  pixel3  pixel4  pixel5  pixel6  pixel7  \\\n",
              "0      1       0       0       0       0       0       0       0       0   \n",
              "1      0       0       0       0       0       0       0       0       0   \n",
              "2      1       0       0       0       0       0       0       0       0   \n",
              "3      4       0       0       0       0       0       0       0       0   \n",
              "4      0       0       0       0       0       0       0       0       0   \n",
              "\n",
              "   pixel8  ...  pixel774  pixel775  pixel776  pixel777  pixel778  pixel779  \\\n",
              "0       0  ...         0         0         0         0         0         0   \n",
              "1       0  ...         0         0         0         0         0         0   \n",
              "2       0  ...         0         0         0         0         0         0   \n",
              "3       0  ...         0         0         0         0         0         0   \n",
              "4       0  ...         0         0         0         0         0         0   \n",
              "\n",
              "   pixel780  pixel781  pixel782  pixel783  \n",
              "0         0         0         0         0  \n",
              "1         0         0         0         0  \n",
              "2         0         0         0         0  \n",
              "3         0         0         0         0  \n",
              "4         0         0         0         0  \n",
              "\n",
              "[5 rows x 785 columns]"
            ],
            "text/html": [
              "\n",
              "  <div id=\"df-c0f6d2e3-519c-4f97-955b-4db2345c45ed\" class=\"colab-df-container\">\n",
              "    <div>\n",
              "<style scoped>\n",
              "    .dataframe tbody tr th:only-of-type {\n",
              "        vertical-align: middle;\n",
              "    }\n",
              "\n",
              "    .dataframe tbody tr th {\n",
              "        vertical-align: top;\n",
              "    }\n",
              "\n",
              "    .dataframe thead th {\n",
              "        text-align: right;\n",
              "    }\n",
              "</style>\n",
              "<table border=\"1\" class=\"dataframe\">\n",
              "  <thead>\n",
              "    <tr style=\"text-align: right;\">\n",
              "      <th></th>\n",
              "      <th>label</th>\n",
              "      <th>pixel0</th>\n",
              "      <th>pixel1</th>\n",
              "      <th>pixel2</th>\n",
              "      <th>pixel3</th>\n",
              "      <th>pixel4</th>\n",
              "      <th>pixel5</th>\n",
              "      <th>pixel6</th>\n",
              "      <th>pixel7</th>\n",
              "      <th>pixel8</th>\n",
              "      <th>...</th>\n",
              "      <th>pixel774</th>\n",
              "      <th>pixel775</th>\n",
              "      <th>pixel776</th>\n",
              "      <th>pixel777</th>\n",
              "      <th>pixel778</th>\n",
              "      <th>pixel779</th>\n",
              "      <th>pixel780</th>\n",
              "      <th>pixel781</th>\n",
              "      <th>pixel782</th>\n",
              "      <th>pixel783</th>\n",
              "    </tr>\n",
              "  </thead>\n",
              "  <tbody>\n",
              "    <tr>\n",
              "      <th>0</th>\n",
              "      <td>1</td>\n",
              "      <td>0</td>\n",
              "      <td>0</td>\n",
              "      <td>0</td>\n",
              "      <td>0</td>\n",
              "      <td>0</td>\n",
              "      <td>0</td>\n",
              "      <td>0</td>\n",
              "      <td>0</td>\n",
              "      <td>0</td>\n",
              "      <td>...</td>\n",
              "      <td>0</td>\n",
              "      <td>0</td>\n",
              "      <td>0</td>\n",
              "      <td>0</td>\n",
              "      <td>0</td>\n",
              "      <td>0</td>\n",
              "      <td>0</td>\n",
              "      <td>0</td>\n",
              "      <td>0</td>\n",
              "      <td>0</td>\n",
              "    </tr>\n",
              "    <tr>\n",
              "      <th>1</th>\n",
              "      <td>0</td>\n",
              "      <td>0</td>\n",
              "      <td>0</td>\n",
              "      <td>0</td>\n",
              "      <td>0</td>\n",
              "      <td>0</td>\n",
              "      <td>0</td>\n",
              "      <td>0</td>\n",
              "      <td>0</td>\n",
              "      <td>0</td>\n",
              "      <td>...</td>\n",
              "      <td>0</td>\n",
              "      <td>0</td>\n",
              "      <td>0</td>\n",
              "      <td>0</td>\n",
              "      <td>0</td>\n",
              "      <td>0</td>\n",
              "      <td>0</td>\n",
              "      <td>0</td>\n",
              "      <td>0</td>\n",
              "      <td>0</td>\n",
              "    </tr>\n",
              "    <tr>\n",
              "      <th>2</th>\n",
              "      <td>1</td>\n",
              "      <td>0</td>\n",
              "      <td>0</td>\n",
              "      <td>0</td>\n",
              "      <td>0</td>\n",
              "      <td>0</td>\n",
              "      <td>0</td>\n",
              "      <td>0</td>\n",
              "      <td>0</td>\n",
              "      <td>0</td>\n",
              "      <td>...</td>\n",
              "      <td>0</td>\n",
              "      <td>0</td>\n",
              "      <td>0</td>\n",
              "      <td>0</td>\n",
              "      <td>0</td>\n",
              "      <td>0</td>\n",
              "      <td>0</td>\n",
              "      <td>0</td>\n",
              "      <td>0</td>\n",
              "      <td>0</td>\n",
              "    </tr>\n",
              "    <tr>\n",
              "      <th>3</th>\n",
              "      <td>4</td>\n",
              "      <td>0</td>\n",
              "      <td>0</td>\n",
              "      <td>0</td>\n",
              "      <td>0</td>\n",
              "      <td>0</td>\n",
              "      <td>0</td>\n",
              "      <td>0</td>\n",
              "      <td>0</td>\n",
              "      <td>0</td>\n",
              "      <td>...</td>\n",
              "      <td>0</td>\n",
              "      <td>0</td>\n",
              "      <td>0</td>\n",
              "      <td>0</td>\n",
              "      <td>0</td>\n",
              "      <td>0</td>\n",
              "      <td>0</td>\n",
              "      <td>0</td>\n",
              "      <td>0</td>\n",
              "      <td>0</td>\n",
              "    </tr>\n",
              "    <tr>\n",
              "      <th>4</th>\n",
              "      <td>0</td>\n",
              "      <td>0</td>\n",
              "      <td>0</td>\n",
              "      <td>0</td>\n",
              "      <td>0</td>\n",
              "      <td>0</td>\n",
              "      <td>0</td>\n",
              "      <td>0</td>\n",
              "      <td>0</td>\n",
              "      <td>0</td>\n",
              "      <td>...</td>\n",
              "      <td>0</td>\n",
              "      <td>0</td>\n",
              "      <td>0</td>\n",
              "      <td>0</td>\n",
              "      <td>0</td>\n",
              "      <td>0</td>\n",
              "      <td>0</td>\n",
              "      <td>0</td>\n",
              "      <td>0</td>\n",
              "      <td>0</td>\n",
              "    </tr>\n",
              "  </tbody>\n",
              "</table>\n",
              "<p>5 rows × 785 columns</p>\n",
              "</div>\n",
              "    <div class=\"colab-df-buttons\">\n",
              "\n",
              "  <div class=\"colab-df-container\">\n",
              "    <button class=\"colab-df-convert\" onclick=\"convertToInteractive('df-c0f6d2e3-519c-4f97-955b-4db2345c45ed')\"\n",
              "            title=\"Convert this dataframe to an interactive table.\"\n",
              "            style=\"display:none;\">\n",
              "\n",
              "  <svg xmlns=\"http://www.w3.org/2000/svg\" height=\"24px\" viewBox=\"0 -960 960 960\">\n",
              "    <path d=\"M120-120v-720h720v720H120Zm60-500h600v-160H180v160Zm220 220h160v-160H400v160Zm0 220h160v-160H400v160ZM180-400h160v-160H180v160Zm440 0h160v-160H620v160ZM180-180h160v-160H180v160Zm440 0h160v-160H620v160Z\"/>\n",
              "  </svg>\n",
              "    </button>\n",
              "\n",
              "  <style>\n",
              "    .colab-df-container {\n",
              "      display:flex;\n",
              "      gap: 12px;\n",
              "    }\n",
              "\n",
              "    .colab-df-convert {\n",
              "      background-color: #E8F0FE;\n",
              "      border: none;\n",
              "      border-radius: 50%;\n",
              "      cursor: pointer;\n",
              "      display: none;\n",
              "      fill: #1967D2;\n",
              "      height: 32px;\n",
              "      padding: 0 0 0 0;\n",
              "      width: 32px;\n",
              "    }\n",
              "\n",
              "    .colab-df-convert:hover {\n",
              "      background-color: #E2EBFA;\n",
              "      box-shadow: 0px 1px 2px rgba(60, 64, 67, 0.3), 0px 1px 3px 1px rgba(60, 64, 67, 0.15);\n",
              "      fill: #174EA6;\n",
              "    }\n",
              "\n",
              "    .colab-df-buttons div {\n",
              "      margin-bottom: 4px;\n",
              "    }\n",
              "\n",
              "    [theme=dark] .colab-df-convert {\n",
              "      background-color: #3B4455;\n",
              "      fill: #D2E3FC;\n",
              "    }\n",
              "\n",
              "    [theme=dark] .colab-df-convert:hover {\n",
              "      background-color: #434B5C;\n",
              "      box-shadow: 0px 1px 3px 1px rgba(0, 0, 0, 0.15);\n",
              "      filter: drop-shadow(0px 1px 2px rgba(0, 0, 0, 0.3));\n",
              "      fill: #FFFFFF;\n",
              "    }\n",
              "  </style>\n",
              "\n",
              "    <script>\n",
              "      const buttonEl =\n",
              "        document.querySelector('#df-c0f6d2e3-519c-4f97-955b-4db2345c45ed button.colab-df-convert');\n",
              "      buttonEl.style.display =\n",
              "        google.colab.kernel.accessAllowed ? 'block' : 'none';\n",
              "\n",
              "      async function convertToInteractive(key) {\n",
              "        const element = document.querySelector('#df-c0f6d2e3-519c-4f97-955b-4db2345c45ed');\n",
              "        const dataTable =\n",
              "          await google.colab.kernel.invokeFunction('convertToInteractive',\n",
              "                                                    [key], {});\n",
              "        if (!dataTable) return;\n",
              "\n",
              "        const docLinkHtml = 'Like what you see? Visit the ' +\n",
              "          '<a target=\"_blank\" href=https://colab.research.google.com/notebooks/data_table.ipynb>data table notebook</a>'\n",
              "          + ' to learn more about interactive tables.';\n",
              "        element.innerHTML = '';\n",
              "        dataTable['output_type'] = 'display_data';\n",
              "        await google.colab.output.renderOutput(dataTable, element);\n",
              "        const docLink = document.createElement('div');\n",
              "        docLink.innerHTML = docLinkHtml;\n",
              "        element.appendChild(docLink);\n",
              "      }\n",
              "    </script>\n",
              "  </div>\n",
              "\n",
              "\n",
              "<div id=\"df-8c234f02-3321-488c-99dd-1744c8fb6f44\">\n",
              "  <button class=\"colab-df-quickchart\" onclick=\"quickchart('df-8c234f02-3321-488c-99dd-1744c8fb6f44')\"\n",
              "            title=\"Suggest charts\"\n",
              "            style=\"display:none;\">\n",
              "\n",
              "<svg xmlns=\"http://www.w3.org/2000/svg\" height=\"24px\"viewBox=\"0 0 24 24\"\n",
              "     width=\"24px\">\n",
              "    <g>\n",
              "        <path d=\"M19 3H5c-1.1 0-2 .9-2 2v14c0 1.1.9 2 2 2h14c1.1 0 2-.9 2-2V5c0-1.1-.9-2-2-2zM9 17H7v-7h2v7zm4 0h-2V7h2v10zm4 0h-2v-4h2v4z\"/>\n",
              "    </g>\n",
              "</svg>\n",
              "  </button>\n",
              "\n",
              "<style>\n",
              "  .colab-df-quickchart {\n",
              "      --bg-color: #E8F0FE;\n",
              "      --fill-color: #1967D2;\n",
              "      --hover-bg-color: #E2EBFA;\n",
              "      --hover-fill-color: #174EA6;\n",
              "      --disabled-fill-color: #AAA;\n",
              "      --disabled-bg-color: #DDD;\n",
              "  }\n",
              "\n",
              "  [theme=dark] .colab-df-quickchart {\n",
              "      --bg-color: #3B4455;\n",
              "      --fill-color: #D2E3FC;\n",
              "      --hover-bg-color: #434B5C;\n",
              "      --hover-fill-color: #FFFFFF;\n",
              "      --disabled-bg-color: #3B4455;\n",
              "      --disabled-fill-color: #666;\n",
              "  }\n",
              "\n",
              "  .colab-df-quickchart {\n",
              "    background-color: var(--bg-color);\n",
              "    border: none;\n",
              "    border-radius: 50%;\n",
              "    cursor: pointer;\n",
              "    display: none;\n",
              "    fill: var(--fill-color);\n",
              "    height: 32px;\n",
              "    padding: 0;\n",
              "    width: 32px;\n",
              "  }\n",
              "\n",
              "  .colab-df-quickchart:hover {\n",
              "    background-color: var(--hover-bg-color);\n",
              "    box-shadow: 0 1px 2px rgba(60, 64, 67, 0.3), 0 1px 3px 1px rgba(60, 64, 67, 0.15);\n",
              "    fill: var(--button-hover-fill-color);\n",
              "  }\n",
              "\n",
              "  .colab-df-quickchart-complete:disabled,\n",
              "  .colab-df-quickchart-complete:disabled:hover {\n",
              "    background-color: var(--disabled-bg-color);\n",
              "    fill: var(--disabled-fill-color);\n",
              "    box-shadow: none;\n",
              "  }\n",
              "\n",
              "  .colab-df-spinner {\n",
              "    border: 2px solid var(--fill-color);\n",
              "    border-color: transparent;\n",
              "    border-bottom-color: var(--fill-color);\n",
              "    animation:\n",
              "      spin 1s steps(1) infinite;\n",
              "  }\n",
              "\n",
              "  @keyframes spin {\n",
              "    0% {\n",
              "      border-color: transparent;\n",
              "      border-bottom-color: var(--fill-color);\n",
              "      border-left-color: var(--fill-color);\n",
              "    }\n",
              "    20% {\n",
              "      border-color: transparent;\n",
              "      border-left-color: var(--fill-color);\n",
              "      border-top-color: var(--fill-color);\n",
              "    }\n",
              "    30% {\n",
              "      border-color: transparent;\n",
              "      border-left-color: var(--fill-color);\n",
              "      border-top-color: var(--fill-color);\n",
              "      border-right-color: var(--fill-color);\n",
              "    }\n",
              "    40% {\n",
              "      border-color: transparent;\n",
              "      border-right-color: var(--fill-color);\n",
              "      border-top-color: var(--fill-color);\n",
              "    }\n",
              "    60% {\n",
              "      border-color: transparent;\n",
              "      border-right-color: var(--fill-color);\n",
              "    }\n",
              "    80% {\n",
              "      border-color: transparent;\n",
              "      border-right-color: var(--fill-color);\n",
              "      border-bottom-color: var(--fill-color);\n",
              "    }\n",
              "    90% {\n",
              "      border-color: transparent;\n",
              "      border-bottom-color: var(--fill-color);\n",
              "    }\n",
              "  }\n",
              "</style>\n",
              "\n",
              "  <script>\n",
              "    async function quickchart(key) {\n",
              "      const quickchartButtonEl =\n",
              "        document.querySelector('#' + key + ' button');\n",
              "      quickchartButtonEl.disabled = true;  // To prevent multiple clicks.\n",
              "      quickchartButtonEl.classList.add('colab-df-spinner');\n",
              "      try {\n",
              "        const charts = await google.colab.kernel.invokeFunction(\n",
              "            'suggestCharts', [key], {});\n",
              "      } catch (error) {\n",
              "        console.error('Error during call to suggestCharts:', error);\n",
              "      }\n",
              "      quickchartButtonEl.classList.remove('colab-df-spinner');\n",
              "      quickchartButtonEl.classList.add('colab-df-quickchart-complete');\n",
              "    }\n",
              "    (() => {\n",
              "      let quickchartButtonEl =\n",
              "        document.querySelector('#df-8c234f02-3321-488c-99dd-1744c8fb6f44 button');\n",
              "      quickchartButtonEl.style.display =\n",
              "        google.colab.kernel.accessAllowed ? 'block' : 'none';\n",
              "    })();\n",
              "  </script>\n",
              "</div>\n",
              "\n",
              "    </div>\n",
              "  </div>\n"
            ],
            "application/vnd.google.colaboratory.intrinsic+json": {
              "type": "dataframe",
              "variable_name": "train"
            }
          },
          "metadata": {},
          "execution_count": 4
        }
      ],
      "source": [
        "train.head()"
      ]
    },
    {
      "cell_type": "code",
      "execution_count": 5,
      "metadata": {
        "colab": {
          "base_uri": "https://localhost:8080/"
        },
        "id": "dqb3GvE_pC_I",
        "outputId": "9f1e19c9-1f1f-45c6-b6ba-e0af926f3b9c"
      },
      "outputs": [
        {
          "output_type": "stream",
          "name": "stdout",
          "text": [
            "<class 'pandas.core.frame.DataFrame'>\n",
            "RangeIndex: 42000 entries, 0 to 41999\n",
            "Columns: 785 entries, label to pixel783\n",
            "dtypes: int64(785)\n",
            "memory usage: 251.5 MB\n"
          ]
        }
      ],
      "source": [
        "train.info()"
      ]
    },
    {
      "cell_type": "code",
      "execution_count": 6,
      "metadata": {
        "colab": {
          "base_uri": "https://localhost:8080/",
          "height": 430
        },
        "id": "yTxRADioqqvD",
        "outputId": "08f10bd3-4a02-47f0-de09-0428387a870e"
      },
      "outputs": [
        {
          "output_type": "display_data",
          "data": {
            "text/plain": [
              "<Figure size 640x480 with 1 Axes>"
            ],
            "image/png": "[encoded data removed]"
          },
          "metadata": {}
        }
      ],
      "source": [
        "feature=[\"pixel{}\".format(pixel_num)for pixel_num in range(0,784)]\n",
        "rows_to_examine=0\n",
        "image_data=np.reshape(train[feature][rows_to_examine:rows_to_examine+1].to_numpy(),(28,28))\n",
        "plt.imshow(image_data,cmap='gray')\n",
        "plt.show()"
      ]
    },
    {
      "cell_type": "markdown",
      "metadata": {
        "id": "aH9lCBg4svvV"
      },
      "source": [
        "We can't do EDA.It is useless in this data"
      ]
    },
    {
      "cell_type": "markdown",
      "metadata": {
        "id": "yuNWw7LEs3WA"
      },
      "source": [
        "We are going to divide the data"
      ]
    },
    {
      "cell_type": "code",
      "execution_count": 7,
      "metadata": {
        "id": "YMocp6AfpHhM"
      },
      "outputs": [],
      "source": [
        "x=train.drop('label',axis=1)\n",
        "y=train['label']"
      ]
    },
    {
      "cell_type": "code",
      "execution_count": 8,
      "metadata": {
        "colab": {
          "base_uri": "https://localhost:8080/"
        },
        "id": "l4CL74b1tCEq",
        "outputId": "a7f00492-0d76-4463-c43c-759145b20770"
      },
      "outputs": [
        {
          "output_type": "stream",
          "name": "stdout",
          "text": [
            "(42000, 784)\n",
            "(42000,)\n"
          ]
        }
      ],
      "source": [
        "print(x.shape)\n",
        "print(y.shape)"
      ]
    },
    {
      "cell_type": "code",
      "execution_count": 9,
      "metadata": {
        "id": "EA05zTl4tIKi"
      },
      "outputs": [],
      "source": [
        "x_train,x_test,y_train,y_test=train_test_split(x,y,test_size=0.2,random_state=10)"
      ]
    },
    {
      "cell_type": "code",
      "execution_count": 10,
      "metadata": {
        "colab": {
          "base_uri": "https://localhost:8080/"
        },
        "id": "otj0UzKttU4w",
        "outputId": "a583dfe4-05ed-44ee-f435-8828c49d0326"
      },
      "outputs": [
        {
          "output_type": "stream",
          "name": "stdout",
          "text": [
            "(33600, 784)\n",
            "(8400, 784)\n",
            "(33600,)\n",
            "(8400,)\n"
          ]
        }
      ],
      "source": [
        "print(x_train.shape)\n",
        "print(x_test.shape)\n",
        "print(y_train.shape)\n",
        "print(y_test.shape)"
      ]
    },
    {
      "cell_type": "code",
      "execution_count": 11,
      "metadata": {
        "id": "1PITPbNftfVq"
      },
      "outputs": [],
      "source": [
        "x=train.drop('label',axis=1)\n",
        "y=train['label']"
      ]
    },
    {
      "cell_type": "code",
      "execution_count": 12,
      "metadata": {
        "colab": {
          "base_uri": "https://localhost:8080/",
          "height": 241
        },
        "id": "COVdDxprQkWl",
        "outputId": "4c742b9e-d12b-4d6a-d1ba-09cf2f505755"
      },
      "outputs": [
        {
          "output_type": "execute_result",
          "data": {
            "text/plain": [
              "0    1\n",
              "1    0\n",
              "2    1\n",
              "3    4\n",
              "4    0\n",
              "Name: label, dtype: int64"
            ],
            "text/html": [
              "<table border=\"1\" class=\"dataframe\">\n",
              "  <thead>\n",
              "    <tr style=\"text-align: right;\">\n",
              "      <th></th>\n",
              "      <th>label</th>\n",
              "    </tr>\n",
              "  </thead>\n",
              "  <tbody>\n",
              "    <tr>\n",
              "      <th>0</th>\n",
              "      <td>1</td>\n",
              "    </tr>\n",
              "    <tr>\n",
              "      <th>1</th>\n",
              "      <td>0</td>\n",
              "    </tr>\n",
              "    <tr>\n",
              "      <th>2</th>\n",
              "      <td>1</td>\n",
              "    </tr>\n",
              "    <tr>\n",
              "      <th>3</th>\n",
              "      <td>4</td>\n",
              "    </tr>\n",
              "    <tr>\n",
              "      <th>4</th>\n",
              "      <td>0</td>\n",
              "    </tr>\n",
              "  </tbody>\n",
              "</table><br><label><b>dtype:</b> int64</label>"
            ]
          },
          "metadata": {},
          "execution_count": 12
        }
      ],
      "source": [
        "y.head()"
      ]
    },
    {
      "cell_type": "code",
      "execution_count": 13,
      "metadata": {
        "colab": {
          "base_uri": "https://localhost:8080/"
        },
        "id": "2KKTOcznQo4x",
        "outputId": "5791e83a-7ffc-4b7c-fa0b-d3e274e072af"
      },
      "outputs": [
        {
          "output_type": "stream",
          "name": "stdout",
          "text": [
            "(33600, 784)\n",
            "(8400, 784)\n",
            "(33600,)\n",
            "(8400,)\n"
          ]
        }
      ],
      "source": [
        "print(x_train.shape)\n",
        "print(x_test.shape)\n",
        "print(y_train.shape)\n",
        "print(y_test.shape)"
      ]
    },
    {
      "cell_type": "code",
      "execution_count": 14,
      "metadata": {
        "id": "cCapzlm7ZeQU",
        "colab": {
          "base_uri": "https://localhost:8080/",
          "height": 74
        },
        "outputId": "9ba83fed-d5d7-4426-9bb8-bbb6d7e6931d"
      },
      "outputs": [
        {
          "output_type": "execute_result",
          "data": {
            "text/plain": [
              "RandomForestClassifier()"
            ],
            "text/html": [
              "<style>#sk-container-id-1 {color: black;}#sk-container-id-1 pre{padding: 0;}#sk-container-id-1 div.sk-toggleable {background-color: white;}#sk-container-id-1 label.sk-toggleable__label {cursor: pointer;display: block;width: 100%;margin-bottom: 0;padding: 0.3em;box-sizing: border-box;text-align: center;}#sk-container-id-1 label.sk-toggleable__label-arrow:before {content: \"▸\";float: left;margin-right: 0.25em;color: #696969;}#sk-container-id-1 label.sk-toggleable__label-arrow:hover:before {color: black;}#sk-container-id-1 div.sk-estimator:hover label.sk-toggleable__label-arrow:before {color: black;}#sk-container-id-1 div.sk-toggleable__content {max-height: 0;max-width: 0;overflow: hidden;text-align: left;background-color: #f0f8ff;}#sk-container-id-1 div.sk-toggleable__content pre {margin: 0.2em;color: black;border-radius: 0.25em;background-color: #f0f8ff;}#sk-container-id-1 input.sk-toggleable__control:checked~div.sk-toggleable__content {max-height: 200px;max-width: 100%;overflow: auto;}#sk-container-id-1 input.sk-toggleable__control:checked~label.sk-toggleable__label-arrow:before {content: \"▾\";}#sk-container-id-1 div.sk-estimator input.sk-toggleable__control:checked~label.sk-toggleable__label {background-color: #d4ebff;}#sk-container-id-1 div.sk-label input.sk-toggleable__control:checked~label.sk-toggleable__label {background-color: #d4ebff;}#sk-container-id-1 input.sk-hidden--visually {border: 0;clip: rect(1px 1px 1px 1px);clip: rect(1px, 1px, 1px, 1px);height: 1px;margin: -1px;overflow: hidden;padding: 0;position: absolute;width: 1px;}#sk-container-id-1 div.sk-estimator {font-family: monospace;background-color: #f0f8ff;border: 1px dotted black;border-radius: 0.25em;box-sizing: border-box;margin-bottom: 0.5em;}#sk-container-id-1 div.sk-estimator:hover {background-color: #d4ebff;}#sk-container-id-1 div.sk-parallel-item::after {content: \"\";width: 100%;border-bottom: 1px solid gray;flex-grow: 1;}#sk-container-id-1 div.sk-label:hover label.sk-toggleable__label {background-color: #d4ebff;}#sk-container-id-1 div.sk-serial::before {content: \"\";position: absolute;border-left: 1px solid gray;box-sizing: border-box;top: 0;bottom: 0;left: 50%;z-index: 0;}#sk-container-id-1 div.sk-serial {display: flex;flex-direction: column;align-items: center;background-color: white;padding-right: 0.2em;padding-left: 0.2em;position: relative;}#sk-container-id-1 div.sk-item {position: relative;z-index: 1;}#sk-container-id-1 div.sk-parallel {display: flex;align-items: stretch;justify-content: center;background-color: white;position: relative;}#sk-container-id-1 div.sk-item::before, #sk-container-id-1 div.sk-parallel-item::before {content: \"\";position: absolute;border-left: 1px solid gray;box-sizing: border-box;top: 0;bottom: 0;left: 50%;z-index: -1;}#sk-container-id-1 div.sk-parallel-item {display: flex;flex-direction: column;z-index: 1;position: relative;background-color: white;}#sk-container-id-1 div.sk-parallel-item:first-child::after {align-self: flex-end;width: 50%;}#sk-container-id-1 div.sk-parallel-item:last-child::after {align-self: flex-start;width: 50%;}#sk-container-id-1 div.sk-parallel-item:only-child::after {width: 0;}#sk-container-id-1 div.sk-dashed-wrapped {border: 1px dashed gray;margin: 0 0.4em 0.5em 0.4em;box-sizing: border-box;padding-bottom: 0.4em;background-color: white;}#sk-container-id-1 div.sk-label label {font-family: monospace;font-weight: bold;display: inline-block;line-height: 1.2em;}#sk-container-id-1 div.sk-label-container {text-align: center;}#sk-container-id-1 div.sk-container {/* jupyter's `normalize.less` sets `[hidden] { display: none; }` but bootstrap.min.css set `[hidden] { display: none !important; }` so we also need the `!important` here to be able to override the default hidden behavior on the sphinx rendered scikit-learn.org. See: https://github.com/scikit-learn/scikit-learn/issues/21755 */display: inline-block !important;position: relative;}#sk-container-id-1 div.sk-text-repr-fallback {display: none;}</style><div id=\"sk-container-id-1\" class=\"sk-top-container\"><div class=\"sk-text-repr-fallback\"><pre>RandomForestClassifier()</pre><b>In a Jupyter environment, please rerun this cell to show the HTML representation or trust the notebook. <br />On GitHub, the HTML representation is unable to render, please try loading this page with nbviewer.org.</b></div><div class=\"sk-container\" hidden><div class=\"sk-item\"><div class=\"sk-estimator sk-toggleable\"><input class=\"sk-toggleable__control sk-hidden--visually\" id=\"sk-estimator-id-1\" type=\"checkbox\" checked><label for=\"sk-estimator-id-1\" class=\"sk-toggleable__label sk-toggleable__label-arrow\">RandomForestClassifier</label><div class=\"sk-toggleable__content\"><pre>RandomForestClassifier()</pre></div></div></div></div></div>"
            ]
          },
          "metadata": {},
          "execution_count": 14
        }
      ],
      "source": [
        "rf=RandomForestClassifier()\n",
        "rf.fit(x_train,y_train)"
      ]
    },
    {
      "cell_type": "code",
      "execution_count": 15,
      "metadata": {
        "id": "JMb2Ij5haLzc"
      },
      "outputs": [],
      "source": [
        "y_hat_train_rf=rf.predict(x_train)\n",
        "y_hat_test_rf=rf.predict(x_test)"
      ]
    },
    {
      "cell_type": "code",
      "execution_count": 16,
      "metadata": {
        "id": "j8ii5JGbabVT"
      },
      "outputs": [],
      "source": [
        "def model_eval(actual,predicted):\n",
        "  accuracy_score_value=accuracy_score(actual,predicted)\n",
        "  classification_report_value=classification_report(actual,predicted)\n",
        "  confusion_matrix_value=confusion_matrix(actual,predicted)\n",
        "  print(\"Accuracy Score:{}\".format(accuracy_score_value))\n",
        "  print(\"Classification Report:{}\".format(classification_report_value))\n",
        "  print(\"Confusion Matrix:{}\".format(confusion_matrix_value))"
      ]
    },
    {
      "cell_type": "code",
      "execution_count": 17,
      "metadata": {
        "id": "YDQHG84Lau0S",
        "colab": {
          "base_uri": "https://localhost:8080/"
        },
        "outputId": "97aae309-8f4f-469d-acef-9afd9bde6ba2"
      },
      "outputs": [
        {
          "output_type": "stream",
          "name": "stdout",
          "text": [
            "Accuracy Score:1.0\n",
            "Classification Report:              precision    recall  f1-score   support\n",
            "\n",
            "           0       1.00      1.00      1.00      3336\n",
            "           1       1.00      1.00      1.00      3738\n",
            "           2       1.00      1.00      1.00      3321\n",
            "           3       1.00      1.00      1.00      3495\n",
            "           4       1.00      1.00      1.00      3246\n",
            "           5       1.00      1.00      1.00      3022\n",
            "           6       1.00      1.00      1.00      3350\n",
            "           7       1.00      1.00      1.00      3532\n",
            "           8       1.00      1.00      1.00      3227\n",
            "           9       1.00      1.00      1.00      3333\n",
            "\n",
            "    accuracy                           1.00     33600\n",
            "   macro avg       1.00      1.00      1.00     33600\n",
            "weighted avg       1.00      1.00      1.00     33600\n",
            "\n",
            "Confusion Matrix:[[3336    0    0    0    0    0    0    0    0    0]\n",
            " [   0 3738    0    0    0    0    0    0    0    0]\n",
            " [   0    0 3321    0    0    0    0    0    0    0]\n",
            " [   0    0    0 3495    0    0    0    0    0    0]\n",
            " [   0    0    0    0 3246    0    0    0    0    0]\n",
            " [   0    0    0    0    0 3022    0    0    0    0]\n",
            " [   0    0    0    0    0    0 3350    0    0    0]\n",
            " [   0    0    0    0    0    0    0 3532    0    0]\n",
            " [   0    0    0    0    0    0    0    0 3227    0]\n",
            " [   0    0    0    0    0    0    0    0    0 3333]]\n"
          ]
        }
      ],
      "source": [
        "model_eval(y_train,y_hat_train_rf)"
      ]
    },
    {
      "cell_type": "code",
      "execution_count": 18,
      "metadata": {
        "id": "aaJI9Bk5awTm",
        "colab": {
          "base_uri": "https://localhost:8080/",
          "height": 74
        },
        "outputId": "4ce69925-565f-451a-c2e6-7d8e79c5c63a"
      },
      "outputs": [
        {
          "output_type": "execute_result",
          "data": {
            "text/plain": [
              "GradientBoostingClassifier(n_estimators=15)"
            ],
            "text/html": [
              "<style>#sk-container-id-2 {color: black;}#sk-container-id-2 pre{padding: 0;}#sk-container-id-2 div.sk-toggleable {background-color: white;}#sk-container-id-2 label.sk-toggleable__label {cursor: pointer;display: block;width: 100%;margin-bottom: 0;padding: 0.3em;box-sizing: border-box;text-align: center;}#sk-container-id-2 label.sk-toggleable__label-arrow:before {content: \"▸\";float: left;margin-right: 0.25em;color: #696969;}#sk-container-id-2 label.sk-toggleable__label-arrow:hover:before {color: black;}#sk-container-id-2 div.sk-estimator:hover label.sk-toggleable__label-arrow:before {color: black;}#sk-container-id-2 div.sk-toggleable__content {max-height: 0;max-width: 0;overflow: hidden;text-align: left;background-color: #f0f8ff;}#sk-container-id-2 div.sk-toggleable__content pre {margin: 0.2em;color: black;border-radius: 0.25em;background-color: #f0f8ff;}#sk-container-id-2 input.sk-toggleable__control:checked~div.sk-toggleable__content {max-height: 200px;max-width: 100%;overflow: auto;}#sk-container-id-2 input.sk-toggleable__control:checked~label.sk-toggleable__label-arrow:before {content: \"▾\";}#sk-container-id-2 div.sk-estimator input.sk-toggleable__control:checked~label.sk-toggleable__label {background-color: #d4ebff;}#sk-container-id-2 div.sk-label input.sk-toggleable__control:checked~label.sk-toggleable__label {background-color: #d4ebff;}#sk-container-id-2 input.sk-hidden--visually {border: 0;clip: rect(1px 1px 1px 1px);clip: rect(1px, 1px, 1px, 1px);height: 1px;margin: -1px;overflow: hidden;padding: 0;position: absolute;width: 1px;}#sk-container-id-2 div.sk-estimator {font-family: monospace;background-color: #f0f8ff;border: 1px dotted black;border-radius: 0.25em;box-sizing: border-box;margin-bottom: 0.5em;}#sk-container-id-2 div.sk-estimator:hover {background-color: #d4ebff;}#sk-container-id-2 div.sk-parallel-item::after {content: \"\";width: 100%;border-bottom: 1px solid gray;flex-grow: 1;}#sk-container-id-2 div.sk-label:hover label.sk-toggleable__label {background-color: #d4ebff;}#sk-container-id-2 div.sk-serial::before {content: \"\";position: absolute;border-left: 1px solid gray;box-sizing: border-box;top: 0;bottom: 0;left: 50%;z-index: 0;}#sk-container-id-2 div.sk-serial {display: flex;flex-direction: column;align-items: center;background-color: white;padding-right: 0.2em;padding-left: 0.2em;position: relative;}#sk-container-id-2 div.sk-item {position: relative;z-index: 1;}#sk-container-id-2 div.sk-parallel {display: flex;align-items: stretch;justify-content: center;background-color: white;position: relative;}#sk-container-id-2 div.sk-item::before, #sk-container-id-2 div.sk-parallel-item::before {content: \"\";position: absolute;border-left: 1px solid gray;box-sizing: border-box;top: 0;bottom: 0;left: 50%;z-index: -1;}#sk-container-id-2 div.sk-parallel-item {display: flex;flex-direction: column;z-index: 1;position: relative;background-color: white;}#sk-container-id-2 div.sk-parallel-item:first-child::after {align-self: flex-end;width: 50%;}#sk-container-id-2 div.sk-parallel-item:last-child::after {align-self: flex-start;width: 50%;}#sk-container-id-2 div.sk-parallel-item:only-child::after {width: 0;}#sk-container-id-2 div.sk-dashed-wrapped {border: 1px dashed gray;margin: 0 0.4em 0.5em 0.4em;box-sizing: border-box;padding-bottom: 0.4em;background-color: white;}#sk-container-id-2 div.sk-label label {font-family: monospace;font-weight: bold;display: inline-block;line-height: 1.2em;}#sk-container-id-2 div.sk-label-container {text-align: center;}#sk-container-id-2 div.sk-container {/* jupyter's `normalize.less` sets `[hidden] { display: none; }` but bootstrap.min.css set `[hidden] { display: none !important; }` so we also need the `!important` here to be able to override the default hidden behavior on the sphinx rendered scikit-learn.org. See: https://github.com/scikit-learn/scikit-learn/issues/21755 */display: inline-block !important;position: relative;}#sk-container-id-2 div.sk-text-repr-fallback {display: none;}</style><div id=\"sk-container-id-2\" class=\"sk-top-container\"><div class=\"sk-text-repr-fallback\"><pre>GradientBoostingClassifier(n_estimators=15)</pre><b>In a Jupyter environment, please rerun this cell to show the HTML representation or trust the notebook. <br />On GitHub, the HTML representation is unable to render, please try loading this page with nbviewer.org.</b></div><div class=\"sk-container\" hidden><div class=\"sk-item\"><div class=\"sk-estimator sk-toggleable\"><input class=\"sk-toggleable__control sk-hidden--visually\" id=\"sk-estimator-id-2\" type=\"checkbox\" checked><label for=\"sk-estimator-id-2\" class=\"sk-toggleable__label sk-toggleable__label-arrow\">GradientBoostingClassifier</label><div class=\"sk-toggleable__content\"><pre>GradientBoostingClassifier(n_estimators=15)</pre></div></div></div></div></div>"
            ]
          },
          "metadata": {},
          "execution_count": 18
        }
      ],
      "source": [
        "gb=GradientBoostingClassifier(n_estimators=15)\n",
        "gb.fit(x_train,y_train)"
      ]
    },
    {
      "cell_type": "code",
      "execution_count": 19,
      "metadata": {
        "id": "H1JxZl9na01q"
      },
      "outputs": [],
      "source": [
        "y_hat_train_gb=gb.predict(x_train)\n",
        "y_hat_test_gb=gb.predict(x_test)"
      ]
    },
    {
      "cell_type": "code",
      "source": [
        "def model_eval(actual,predicted):\n",
        "  accuracy_score_value=accuracy_score(actual,predicted)\n",
        "  classification_report_value=classification_report(actual,predicted)\n",
        "  confusion_matrix_value=confusion_matrix(actual,predicted)\n",
        "  print(\"Accuracy Score:{}\".format(accuracy_score_value))\n",
        "  print(\"Classification Report:{}\".format(classification_report_value))\n",
        "  print(\"Confusion Matrix:{}\".format(confusion_matrix_value))"
      ],
      "metadata": {
        "id": "C_5sS6MP_vrI"
      },
      "execution_count": 20,
      "outputs": []
    },
    {
      "cell_type": "code",
      "execution_count": 21,
      "metadata": {
        "id": "5yFLWN4mcZzk",
        "colab": {
          "base_uri": "https://localhost:8080/"
        },
        "outputId": "db82649f-7d67-453c-bbb6-9fdbefcdbf80"
      },
      "outputs": [
        {
          "output_type": "stream",
          "name": "stdout",
          "text": [
            "Accuracy Score:0.869077380952381\n",
            "Classification Report:              precision    recall  f1-score   support\n",
            "\n",
            "           0       0.91      0.96      0.93      3336\n",
            "           1       0.91      0.95      0.93      3738\n",
            "           2       0.90      0.87      0.89      3321\n",
            "           3       0.83      0.84      0.83      3495\n",
            "           4       0.84      0.88      0.86      3246\n",
            "           5       0.88      0.76      0.82      3022\n",
            "           6       0.93      0.89      0.91      3350\n",
            "           7       0.90      0.86      0.88      3532\n",
            "           8       0.81      0.82      0.82      3227\n",
            "           9       0.78      0.84      0.81      3333\n",
            "\n",
            "    accuracy                           0.87     33600\n",
            "   macro avg       0.87      0.87      0.87     33600\n",
            "weighted avg       0.87      0.87      0.87     33600\n",
            "\n",
            "Confusion Matrix:[[3190    1    5   15   14    9   13    3   82    4]\n",
            " [   1 3563   28   51    3   14   27    8   39    4]\n",
            " [  62   49 2896   65   54    6   47   40   79   23]\n",
            " [  25   61   93 2926   23   75   20   42  121  109]\n",
            " [  15   25   16   11 2843   36   24   20   53  203]\n",
            " [  72   32   12  248   59 2311   72   24   91  101]\n",
            " [  52   17   33   10   90   79 2972   10   86    1]\n",
            " [  34   38   49   25   82   11    3 3047   29  214]\n",
            " [  15  114   54  142   36   58   15   16 2643  134]\n",
            " [  31   25   16   45  185   28    2  158   33 2810]]\n"
          ]
        }
      ],
      "source": [
        "model_eval(y_train,y_hat_train_gb)"
      ]
    },
    {
      "cell_type": "code",
      "source": [
        "def model_eval(actual,predicted):\n",
        "  accuracy_score_value=accuracy_score(actual,predicted)\n",
        "  classification_report_value=classification_report(actual,predicted)\n",
        "  confusion_matrix_value=confusion_matrix(actual,predicted)\n",
        "  print(\"Accuracy Score:{}\".format(accuracy_score_value))\n",
        "  print(\"Classification Report:{}\".format(classification_report_value))\n",
        "  print(\"Confusion Matrix:{}\".format(confusion_matrix_value))"
      ],
      "metadata": {
        "id": "99hX2a5M_zmw"
      },
      "execution_count": 22,
      "outputs": []
    },
    {
      "cell_type": "code",
      "execution_count": 23,
      "metadata": {
        "id": "kY57M3PgcoZX",
        "colab": {
          "base_uri": "https://localhost:8080/"
        },
        "outputId": "7f670f6f-fb00-41d5-8853-553b50429770"
      },
      "outputs": [
        {
          "output_type": "stream",
          "name": "stdout",
          "text": [
            "Accuracy Score:0.8628571428571429\n",
            "Classification Report:              precision    recall  f1-score   support\n",
            "\n",
            "           0       0.91      0.95      0.93       796\n",
            "           1       0.90      0.96      0.93       946\n",
            "           2       0.89      0.85      0.87       856\n",
            "           3       0.82      0.84      0.83       856\n",
            "           4       0.83      0.89      0.86       826\n",
            "           5       0.89      0.75      0.81       773\n",
            "           6       0.91      0.87      0.89       787\n",
            "           7       0.91      0.87      0.89       869\n",
            "           8       0.81      0.78      0.79       836\n",
            "           9       0.78      0.85      0.82       855\n",
            "\n",
            "    accuracy                           0.86      8400\n",
            "   macro avg       0.86      0.86      0.86      8400\n",
            "weighted avg       0.86      0.86      0.86      8400\n",
            "\n",
            "Confusion Matrix:[[758   1   1   3   2   1   3   1  20   6]\n",
            " [  0 907   6   9   2   3   8   2   9   0]\n",
            " [ 15   9 729  18  17   2  16  14  27   9]\n",
            " [  7   7  37 721   4  16   9  10  21  24]\n",
            " [  5   5   5   5 738   7   3   4  16  38]\n",
            " [ 12  12   3  60  21 579  18   7  26  35]\n",
            " [ 18   5   7   2  23  24 685   2  21   0]\n",
            " [  7   9   9   6  26   1   0 752   2  57]\n",
            " [  5  50  18  36  13  13  10   7 649  35]\n",
            " [  7   4   6  18  48   3   0  31   8 730]]\n"
          ]
        }
      ],
      "source": [
        " model_eval(y_test,y_hat_test_gb)"
      ]
    },
    {
      "cell_type": "markdown",
      "source": [
        "perceptron"
      ],
      "metadata": {
        "id": "4r6ktrPa71Yf"
      }
    },
    {
      "cell_type": "markdown",
      "source": [
        "singel layer perceptorn is linear model\n",
        "But the data is non_linear"
      ],
      "metadata": {
        "id": "xtyL7UlqMw6B"
      }
    },
    {
      "cell_type": "code",
      "source": [
        "per =Perceptron()\n",
        "per.fit(x_train, y_train)\n",
        "y_hat_train_per=per.predict(x_train)\n",
        "y_hat_test_per=per.predict(x_test)"
      ],
      "metadata": {
        "id": "VtFrzv1n0hMu"
      },
      "execution_count": 26,
      "outputs": []
    },
    {
      "cell_type": "code",
      "source": [
        "def model_eval(actual,predicted):\n",
        "  accuracy_score_value=accuracy_score(actual,predicted)\n",
        "  classification_report_value=classification_report(actual,predicted)\n",
        "  confusion_matrix_value=confusion_matrix(actual,predicted)\n",
        "  print(\"Accuracy Score:{}\".format(accuracy_score_value))\n",
        "  print(\"Classification Report:{}\".format(classification_report_value))\n",
        "  print(\"Confusion Matrix:{}\".format(confusion_matrix_value))"
      ],
      "metadata": {
        "id": "E6N-t86185yB"
      },
      "execution_count": 27,
      "outputs": []
    },
    {
      "cell_type": "code",
      "source": [
        "model_eval(y_train,y_hat_train_per)"
      ],
      "metadata": {
        "id": "SaTfpJbS8asf",
        "colab": {
          "base_uri": "https://localhost:8080/"
        },
        "outputId": "f77f15d0-b0e5-4b8c-81a9-44177fc5b7c9"
      },
      "execution_count": 28,
      "outputs": [
        {
          "output_type": "stream",
          "name": "stdout",
          "text": [
            "Accuracy Score:0.8897619047619048\n",
            "Classification Report:              precision    recall  f1-score   support\n",
            "\n",
            "           0       0.96      0.97      0.97      3336\n",
            "           1       0.93      0.98      0.95      3738\n",
            "           2       0.91      0.86      0.89      3321\n",
            "           3       0.91      0.83      0.87      3495\n",
            "           4       0.87      0.93      0.90      3246\n",
            "           5       0.92      0.72      0.81      3022\n",
            "           6       0.86      0.98      0.92      3350\n",
            "           7       0.93      0.91      0.92      3532\n",
            "           8       0.74      0.88      0.80      3227\n",
            "           9       0.89      0.80      0.84      3333\n",
            "\n",
            "    accuracy                           0.89     33600\n",
            "   macro avg       0.89      0.89      0.89     33600\n",
            "weighted avg       0.89      0.89      0.89     33600\n",
            "\n",
            "Confusion Matrix:[[3245    0    8    3    5    5   35    0   34    1]\n",
            " [   0 3661   13    3    3    2    6    3   42    5]\n",
            " [  13   53 2871   25   31    5  125   32  157    9]\n",
            " [  13   39  131 2889   16   38   57   25  247   40]\n",
            " [   4   14   10    0 3035    7   50    8   54   64]\n",
            " [  28   27   19  193   50 2188  198   11  272   36]\n",
            " [  14    6    2    0   10   16 3288    0   14    0]\n",
            " [  12   22   43    3   48    4    5 3214   39  142]\n",
            " [  18   97   25   36   37   75   51   10 2841   37]\n",
            " [  19   15   21   29  263   41    6  138  137 2664]]\n"
          ]
        }
      ]
    },
    {
      "cell_type": "markdown",
      "source": [
        "multi layer perceptron"
      ],
      "metadata": {
        "id": "PCL9eLw6dkke"
      }
    },
    {
      "cell_type": "code",
      "source": [
        "from sklearn.neural_network import MLPClassifier"
      ],
      "metadata": {
        "id": "g3KvypCveM-z"
      },
      "execution_count": 29,
      "outputs": []
    },
    {
      "cell_type": "markdown",
      "source": [
        "Increase the neuron 32,62,128,256,512 more than\n",
        "Create a new hidden layer"
      ],
      "metadata": {
        "id": "U9wS5kHLhAe_"
      }
    },
    {
      "cell_type": "code",
      "source": [
        "mlp=MLPClassifier(hidden_layer_sizes=(64,64,64),random_state= 10,verbose= 1)\n",
        "mlp.fit(x_train,y_train)\n",
        "y_hat_train_mlp=mlp.predict(x_train)\n",
        "y_hat_test_mlp=mlp.predict(x_test)\n"
      ],
      "metadata": {
        "id": "0tZ7zBlu9KLG",
        "colab": {
          "base_uri": "https://localhost:8080/"
        },
        "outputId": "b31b01b2-933b-4781-a75d-8940c61f4e66"
      },
      "execution_count": 30,
      "outputs": [
        {
          "output_type": "stream",
          "name": "stdout",
          "text": [
            "Iteration 1, loss = 2.92790823\n",
            "Iteration 2, loss = 0.61130416\n",
            "Iteration 3, loss = 0.38984193\n",
            "Iteration 4, loss = 0.29756884\n",
            "Iteration 5, loss = 0.24079396\n",
            "Iteration 6, loss = 0.19795728\n",
            "Iteration 7, loss = 0.16671323\n",
            "Iteration 8, loss = 0.15004896\n",
            "Iteration 9, loss = 0.13379428\n",
            "Iteration 10, loss = 0.11437175\n",
            "Iteration 11, loss = 0.10237632\n",
            "Iteration 12, loss = 0.08855856\n",
            "Iteration 13, loss = 0.08247361\n",
            "Iteration 14, loss = 0.08460366\n",
            "Iteration 15, loss = 0.07807670\n",
            "Iteration 16, loss = 0.06959152\n",
            "Iteration 17, loss = 0.07807428\n",
            "Iteration 18, loss = 0.07039426\n",
            "Iteration 19, loss = 0.06856918\n",
            "Iteration 20, loss = 0.05882026\n",
            "Iteration 21, loss = 0.05527884\n",
            "Iteration 22, loss = 0.05911925\n",
            "Iteration 23, loss = 0.06163009\n",
            "Iteration 24, loss = 0.05482740\n",
            "Iteration 25, loss = 0.06275743\n",
            "Iteration 26, loss = 0.04681039\n",
            "Iteration 27, loss = 0.04495617\n",
            "Iteration 28, loss = 0.04678297\n",
            "Iteration 29, loss = 0.05041975\n",
            "Iteration 30, loss = 0.04576628\n",
            "Iteration 31, loss = 0.06041460\n",
            "Iteration 32, loss = 0.05824116\n",
            "Iteration 33, loss = 0.03981132\n",
            "Iteration 34, loss = 0.03985220\n",
            "Iteration 35, loss = 0.03616463\n",
            "Iteration 36, loss = 0.03882117\n",
            "Iteration 37, loss = 0.03293678\n",
            "Iteration 38, loss = 0.05160894\n",
            "Iteration 39, loss = 0.03823939\n",
            "Iteration 40, loss = 0.03064696\n",
            "Iteration 41, loss = 0.05314523\n",
            "Iteration 42, loss = 0.04122489\n",
            "Iteration 43, loss = 0.03866956\n",
            "Iteration 44, loss = 0.03742523\n",
            "Iteration 45, loss = 0.02339231\n",
            "Iteration 46, loss = 0.02514126\n",
            "Iteration 47, loss = 0.02148832\n",
            "Iteration 48, loss = 0.04312276\n",
            "Iteration 49, loss = 0.04620768\n",
            "Iteration 50, loss = 0.05080634\n",
            "Iteration 51, loss = 0.02856064\n",
            "Iteration 52, loss = 0.02524505\n",
            "Iteration 53, loss = 0.02417862\n",
            "Iteration 54, loss = 0.02588475\n",
            "Iteration 55, loss = 0.02213422\n",
            "Iteration 56, loss = 0.02180267\n",
            "Iteration 57, loss = 0.02588256\n",
            "Iteration 58, loss = 0.03455569\n",
            "Training loss did not improve more than tol=0.000100 for 10 consecutive epochs. Stopping.\n"
          ]
        }
      ]
    },
    {
      "cell_type": "code",
      "source": [
        "model_eval(y_train,y_hat_train_mlp)"
      ],
      "metadata": {
        "id": "uMOtqcIcfuZG",
        "colab": {
          "base_uri": "https://localhost:8080/"
        },
        "outputId": "4fbd6327-b34b-4c26-bc48-094c5c7c03b0"
      },
      "execution_count": 31,
      "outputs": [
        {
          "output_type": "stream",
          "name": "stdout",
          "text": [
            "Accuracy Score:0.9939285714285714\n",
            "Classification Report:              precision    recall  f1-score   support\n",
            "\n",
            "           0       1.00      1.00      1.00      3336\n",
            "           1       1.00      1.00      1.00      3738\n",
            "           2       0.99      1.00      0.99      3321\n",
            "           3       0.99      0.99      0.99      3495\n",
            "           4       0.99      0.99      0.99      3246\n",
            "           5       1.00      0.99      1.00      3022\n",
            "           6       1.00      1.00      1.00      3350\n",
            "           7       0.99      1.00      0.99      3532\n",
            "           8       0.99      0.99      0.99      3227\n",
            "           9       0.99      0.98      0.99      3333\n",
            "\n",
            "    accuracy                           0.99     33600\n",
            "   macro avg       0.99      0.99      0.99     33600\n",
            "weighted avg       0.99      0.99      0.99     33600\n",
            "\n",
            "Confusion Matrix:[[3327    1    0    0    1    1    2    1    3    0]\n",
            " [   0 3736    0    0    0    0    1    1    0    0]\n",
            " [   0    1 3315    1    0    0    0    2    2    0]\n",
            " [   0    1    9 3462    0    0    0    9   12    2]\n",
            " [   1    1    7    2 3215    0    1    1    4   14]\n",
            " [   0    0    0    8    1 3000    2    0   10    1]\n",
            " [   3    0    1    1    2    1 3339    0    3    0]\n",
            " [   0    2    3    0    2    0    0 3515    0   10]\n",
            " [   5    4    4    8    1    0    0    1 3204    0]\n",
            " [   0    1    9    5   11    1    0   13   10 3283]]\n"
          ]
        }
      ]
    },
    {
      "cell_type": "code",
      "source": [
        "model_eval(y_test,y_hat_test_mlp)"
      ],
      "metadata": {
        "id": "az0J1ePQgMA8",
        "colab": {
          "base_uri": "https://localhost:8080/"
        },
        "outputId": "3411d312-4047-4ecc-89b9-a5b4e28175c8"
      },
      "execution_count": 32,
      "outputs": [
        {
          "output_type": "stream",
          "name": "stdout",
          "text": [
            "Accuracy Score:0.9595238095238096\n",
            "Classification Report:              precision    recall  f1-score   support\n",
            "\n",
            "           0       0.97      0.98      0.98       796\n",
            "           1       0.98      0.99      0.99       946\n",
            "           2       0.94      0.97      0.95       856\n",
            "           3       0.95      0.95      0.95       856\n",
            "           4       0.96      0.96      0.96       826\n",
            "           5       0.97      0.93      0.95       773\n",
            "           6       0.96      0.98      0.97       787\n",
            "           7       0.96      0.96      0.96       869\n",
            "           8       0.94      0.93      0.93       836\n",
            "           9       0.96      0.94      0.95       855\n",
            "\n",
            "    accuracy                           0.96      8400\n",
            "   macro avg       0.96      0.96      0.96      8400\n",
            "weighted avg       0.96      0.96      0.96      8400\n",
            "\n",
            "Confusion Matrix:[[780   1   1   0   0   1   5   1   4   3]\n",
            " [  0 934   3   0   2   2   0   2   3   0]\n",
            " [  1   0 830   2   3   0   5   7   8   0]\n",
            " [  2   2  15 809   0   8   0   2  15   3]\n",
            " [  1   1   3   1 795   1   4   1   3  16]\n",
            " [  6   1   2  15   2 721  12   0  12   2]\n",
            " [  8   1   0   0   0   1 773   0   4   0]\n",
            " [  0   3  12   4   6   2   0 836   0   6]\n",
            " [  3   7  15  11   1   6   5   3 781   4]\n",
            " [  1   0   4  10  17   2   0  15   5 801]]\n"
          ]
        }
      ]
    },
    {
      "cell_type": "markdown",
      "source": [
        "* declare the dat\n",
        "\n",
        "   * sequential :sequence of layer\n",
        "\n",
        "   * function:multi model /train\n",
        "\n",
        "* declare the layer\n",
        "\n",
        "  * dence,dropout\n",
        "\n",
        "  * number of neuron,act function\n",
        "\n",
        "* compile the model\n",
        "\n",
        "  * Optimizer(SGD,Adam)\n",
        "\n",
        "  * Loss Function(CROSS ENTROPY,RMSE,MSE)\n",
        "\n",
        "  * Metric(aCCURACY,F1,Precision,Recall)\n",
        "\n",
        "* fit the model\n",
        "\n",
        "  * pass x_train and y_train\n",
        "\n",
        "  * pass x test and y_test\n",
        "\n",
        "  * epochs\n",
        "\n",
        "  * batch size\n",
        "  \n",
        "* predict and evalute model"
      ],
      "metadata": {
        "id": "Hy7xvFlkDF4l"
      }
    },
    {
      "cell_type": "code",
      "source": [
        "from keras.models import Sequential\n",
        "from keras.layers import Dense,Dropout\n",
        "from keras.optimizers import SGD,Adam\n",
        "from keras.utils import to_categorical"
      ],
      "metadata": {
        "id": "gljnlyzhhNgE"
      },
      "execution_count": 33,
      "outputs": []
    },
    {
      "cell_type": "markdown",
      "source": [
        "One Hot Encoder"
      ],
      "metadata": {
        "id": "4ZePzyKtHckJ"
      }
    },
    {
      "cell_type": "code",
      "source": [
        "y_train_ohe=to_categorical(y_train)\n",
        "y_test_ohe=to_categorical(y_test)\n",
        "#"
      ],
      "metadata": {
        "id": "Ij3HieGEE7_T"
      },
      "execution_count": 34,
      "outputs": []
    },
    {
      "cell_type": "code",
      "source": [
        "y_train_ohe"
      ],
      "metadata": {
        "colab": {
          "base_uri": "https://localhost:8080/"
        },
        "id": "OeymEyrxHs6u",
        "outputId": "4737181f-c136-4ecb-a32f-e3aaf100f001"
      },
      "execution_count": 35,
      "outputs": [
        {
          "output_type": "execute_result",
          "data": {
            "text/plain": [
              "array([[0., 0., 0., ..., 0., 0., 0.],\n",
              "       [0., 0., 0., ..., 1., 0., 0.],\n",
              "       [0., 0., 0., ..., 1., 0., 0.],\n",
              "       ...,\n",
              "       [0., 0., 0., ..., 0., 0., 0.],\n",
              "       [0., 0., 0., ..., 0., 0., 0.],\n",
              "       [1., 0., 0., ..., 0., 0., 0.]])"
            ]
          },
          "metadata": {},
          "execution_count": 35
        }
      ]
    },
    {
      "cell_type": "code",
      "source": [
        "y_test_ohe"
      ],
      "metadata": {
        "colab": {
          "base_uri": "https://localhost:8080/"
        },
        "id": "5tQPI682J7d5",
        "outputId": "411d8efa-1594-41e1-bdcc-43c773d641cd"
      },
      "execution_count": 36,
      "outputs": [
        {
          "output_type": "execute_result",
          "data": {
            "text/plain": [
              "array([[0., 0., 0., ..., 1., 0., 0.],\n",
              "       [0., 0., 0., ..., 0., 0., 0.],\n",
              "       [0., 0., 0., ..., 0., 0., 1.],\n",
              "       ...,\n",
              "       [0., 0., 0., ..., 0., 0., 0.],\n",
              "       [0., 0., 0., ..., 0., 0., 0.],\n",
              "       [0., 1., 0., ..., 0., 0., 0.]])"
            ]
          },
          "metadata": {},
          "execution_count": 36
        }
      ]
    },
    {
      "cell_type": "code",
      "source": [
        "model= Sequential()\n",
        "model.add(Dense(64,activation='relu',input_shape=(784,)))#layer1\n",
        "model.add(Dense(64,activation='relu'))#layer2\n",
        "model.add(Dense(64,activation='relu'))#layer3\n",
        "model.add(Dense(10,activation='softmax'))#output layer\n",
        "model.add\n"
      ],
      "metadata": {
        "colab": {
          "base_uri": "https://localhost:8080/",
          "height": 228
        },
        "id": "SbcY7a-ZJ9Pj",
        "outputId": "5674044e-beb4-4f5d-e7de-4d62f9d003ff"
      },
      "execution_count": 37,
      "outputs": [
        {
          "output_type": "stream",
          "name": "stderr",
          "text": [
            "/usr/local/lib/python3.10/dist-packages/keras/src/layers/core/dense.py:87: UserWarning: Do not pass an `input_shape`/`input_dim` argument to a layer. When using Sequential models, prefer using an `Input(shape)` object as the first layer in the model instead.\n",
            "  super().__init__(activity_regularizer=activity_regularizer, **kwargs)\n"
          ]
        },
        {
          "output_type": "execute_result",
          "data": {
            "text/plain": [
              "<bound method Sequential.add of <Sequential name=sequential, built=True>>"
            ],
            "text/html": [
              "<div style=\"max-width:800px; border: 1px solid var(--colab-border-color);\"><style>\n",
              "      pre.function-repr-contents {\n",
              "        overflow-x: auto;\n",
              "        padding: 8px 12px;\n",
              "        max-height: 500px;\n",
              "      }\n",
              "\n",
              "      pre.function-repr-contents.function-repr-contents-collapsed {\n",
              "        cursor: pointer;\n",
              "        max-height: 100px;\n",
              "      }\n",
              "    </style>\n",
              "    <pre style=\"white-space: initial; background:\n",
              "         var(--colab-secondary-surface-color); padding: 8px 12px;\n",
              "         border-bottom: 1px solid var(--colab-border-color);\"><b>keras.src.models.sequential.Sequential.add</b><br/>def add(layer, rebuild=True)</pre><pre class=\"function-repr-contents function-repr-contents-collapsed\" style=\"\"><a class=\"filepath\" style=\"display:none\" href=\"#\">/usr/local/lib/python3.10/dist-packages/keras/src/models/sequential.py</a>Adds a layer instance on top of the layer stack.\n",
              "\n",
              "Args:\n",
              "    layer: layer instance.</pre>\n",
              "      <script>\n",
              "      if (google.colab.kernel.accessAllowed && google.colab.files && google.colab.files.view) {\n",
              "        for (const element of document.querySelectorAll('.filepath')) {\n",
              "          element.style.display = 'block'\n",
              "          element.onclick = (event) => {\n",
              "            event.preventDefault();\n",
              "            event.stopPropagation();\n",
              "            google.colab.files.view(element.textContent, 76);\n",
              "          };\n",
              "        }\n",
              "      }\n",
              "      for (const element of document.querySelectorAll('.function-repr-contents')) {\n",
              "        element.onclick = (event) => {\n",
              "          event.preventDefault();\n",
              "          event.stopPropagation();\n",
              "          element.classList.toggle('function-repr-contents-collapsed');\n",
              "        };\n",
              "      }\n",
              "      </script>\n",
              "      </div>"
            ]
          },
          "metadata": {},
          "execution_count": 37
        }
      ]
    },
    {
      "cell_type": "code",
      "source": [
        "model.summary()"
      ],
      "metadata": {
        "colab": {
          "base_uri": "https://localhost:8080/",
          "height": 257
        },
        "id": "ZxyUd0vSOy5L",
        "outputId": "af347d55-71af-4fc6-9dc1-e24862cfa2ab"
      },
      "execution_count": 38,
      "outputs": [
        {
          "output_type": "display_data",
          "data": {
            "text/plain": [
              "\u001b[1mModel: \"sequential\"\u001b[0m\n"
            ],
            "text/html": [
              "<pre style=\"white-space:pre;overflow-x:auto;line-height:normal;font-family:Menlo,'DejaVu Sans Mono',consolas,'Courier New',monospace\"><span style=\"font-weight: bold\">Model: \"sequential\"</span>\n",
              "</pre>\n"
            ]
          },
          "metadata": {}
        },
        {
          "output_type": "display_data",
          "data": {
            "text/plain": [
              "┏━━━━━━━━━━━━━━━━━━━━━━━━━━━━━━━━━━━━━━┳━━━━━━━━━━━━━━━━━━━━━━━━━━━━━┳━━━━━━━━━━━━━━━━━┓\n",
              "┃\u001b[1m \u001b[0m\u001b[1mLayer (type)                        \u001b[0m\u001b[1m \u001b[0m┃\u001b[1m \u001b[0m\u001b[1mOutput Shape               \u001b[0m\u001b[1m \u001b[0m┃\u001b[1m \u001b[0m\u001b[1m        Param #\u001b[0m\u001b[1m \u001b[0m┃\n",
              "┡━━━━━━━━━━━━━━━━━━━━━━━━━━━━━━━━━━━━━━╇━━━━━━━━━━━━━━━━━━━━━━━━━━━━━╇━━━━━━━━━━━━━━━━━┩\n",
              "│ dense (\u001b[38;5;33mDense\u001b[0m)                        │ (\u001b[38;5;45mNone\u001b[0m, \u001b[38;5;34m64\u001b[0m)                  │          \u001b[38;5;34m50,240\u001b[0m │\n",
              "├──────────────────────────────────────┼─────────────────────────────┼─────────────────┤\n",
              "│ dense_1 (\u001b[38;5;33mDense\u001b[0m)                      │ (\u001b[38;5;45mNone\u001b[0m, \u001b[38;5;34m64\u001b[0m)                  │           \u001b[38;5;34m4,160\u001b[0m │\n",
              "├──────────────────────────────────────┼─────────────────────────────┼─────────────────┤\n",
              "│ dense_2 (\u001b[38;5;33mDense\u001b[0m)                      │ (\u001b[38;5;45mNone\u001b[0m, \u001b[38;5;34m64\u001b[0m)                  │           \u001b[38;5;34m4,160\u001b[0m │\n",
              "├──────────────────────────────────────┼─────────────────────────────┼─────────────────┤\n",
              "│ dense_3 (\u001b[38;5;33mDense\u001b[0m)                      │ (\u001b[38;5;45mNone\u001b[0m, \u001b[38;5;34m10\u001b[0m)                  │             \u001b[38;5;34m650\u001b[0m │\n",
              "└──────────────────────────────────────┴─────────────────────────────┴─────────────────┘\n"
            ],
            "text/html": [
              "<pre style=\"white-space:pre;overflow-x:auto;line-height:normal;font-family:Menlo,'DejaVu Sans Mono',consolas,'Courier New',monospace\">┏━━━━━━━━━━━━━━━━━━━━━━━━━━━━━━━━━━━━━━┳━━━━━━━━━━━━━━━━━━━━━━━━━━━━━┳━━━━━━━━━━━━━━━━━┓\n",
              "┃<span style=\"font-weight: bold\"> Layer (type)                         </span>┃<span style=\"font-weight: bold\"> Output Shape                </span>┃<span style=\"font-weight: bold\">         Param # </span>┃\n",
              "┡━━━━━━━━━━━━━━━━━━━━━━━━━━━━━━━━━━━━━━╇━━━━━━━━━━━━━━━━━━━━━━━━━━━━━╇━━━━━━━━━━━━━━━━━┩\n",
              "│ dense (<span style=\"color: #0087ff; text-decoration-color: #0087ff\">Dense</span>)                        │ (<span style=\"color: #00d7ff; text-decoration-color: #00d7ff\">None</span>, <span style=\"color: #00af00; text-decoration-color: #00af00\">64</span>)                  │          <span style=\"color: #00af00; text-decoration-color: #00af00\">50,240</span> │\n",
              "├──────────────────────────────────────┼─────────────────────────────┼─────────────────┤\n",
              "│ dense_1 (<span style=\"color: #0087ff; text-decoration-color: #0087ff\">Dense</span>)                      │ (<span style=\"color: #00d7ff; text-decoration-color: #00d7ff\">None</span>, <span style=\"color: #00af00; text-decoration-color: #00af00\">64</span>)                  │           <span style=\"color: #00af00; text-decoration-color: #00af00\">4,160</span> │\n",
              "├──────────────────────────────────────┼─────────────────────────────┼─────────────────┤\n",
              "│ dense_2 (<span style=\"color: #0087ff; text-decoration-color: #0087ff\">Dense</span>)                      │ (<span style=\"color: #00d7ff; text-decoration-color: #00d7ff\">None</span>, <span style=\"color: #00af00; text-decoration-color: #00af00\">64</span>)                  │           <span style=\"color: #00af00; text-decoration-color: #00af00\">4,160</span> │\n",
              "├──────────────────────────────────────┼─────────────────────────────┼─────────────────┤\n",
              "│ dense_3 (<span style=\"color: #0087ff; text-decoration-color: #0087ff\">Dense</span>)                      │ (<span style=\"color: #00d7ff; text-decoration-color: #00d7ff\">None</span>, <span style=\"color: #00af00; text-decoration-color: #00af00\">10</span>)                  │             <span style=\"color: #00af00; text-decoration-color: #00af00\">650</span> │\n",
              "└──────────────────────────────────────┴─────────────────────────────┴─────────────────┘\n",
              "</pre>\n"
            ]
          },
          "metadata": {}
        },
        {
          "output_type": "display_data",
          "data": {
            "text/plain": [
              "\u001b[1m Total params: \u001b[0m\u001b[38;5;34m59,210\u001b[0m (231.29 KB)\n"
            ],
            "text/html": [
              "<pre style=\"white-space:pre;overflow-x:auto;line-height:normal;font-family:Menlo,'DejaVu Sans Mono',consolas,'Courier New',monospace\"><span style=\"font-weight: bold\"> Total params: </span><span style=\"color: #00af00; text-decoration-color: #00af00\">59,210</span> (231.29 KB)\n",
              "</pre>\n"
            ]
          },
          "metadata": {}
        },
        {
          "output_type": "display_data",
          "data": {
            "text/plain": [
              "\u001b[1m Trainable params: \u001b[0m\u001b[38;5;34m59,210\u001b[0m (231.29 KB)\n"
            ],
            "text/html": [
              "<pre style=\"white-space:pre;overflow-x:auto;line-height:normal;font-family:Menlo,'DejaVu Sans Mono',consolas,'Courier New',monospace\"><span style=\"font-weight: bold\"> Trainable params: </span><span style=\"color: #00af00; text-decoration-color: #00af00\">59,210</span> (231.29 KB)\n",
              "</pre>\n"
            ]
          },
          "metadata": {}
        },
        {
          "output_type": "display_data",
          "data": {
            "text/plain": [
              "\u001b[1m Non-trainable params: \u001b[0m\u001b[38;5;34m0\u001b[0m (0.00 B)\n"
            ],
            "text/html": [
              "<pre style=\"white-space:pre;overflow-x:auto;line-height:normal;font-family:Menlo,'DejaVu Sans Mono',consolas,'Courier New',monospace\"><span style=\"font-weight: bold\"> Non-trainable params: </span><span style=\"color: #00af00; text-decoration-color: #00af00\">0</span> (0.00 B)\n",
              "</pre>\n"
            ]
          },
          "metadata": {}
        }
      ]
    },
    {
      "cell_type": "markdown",
      "source": [
        "Compile the model"
      ],
      "metadata": {
        "id": "R9sFYrVXXUe4"
      }
    },
    {
      "cell_type": "code",
      "source": [
        "model.compile(optimizer='Adam',loss='categorical_crossentropy',metrics=['accuracy'])"
      ],
      "metadata": {
        "id": "Yy67IWapXWjN"
      },
      "execution_count": 39,
      "outputs": []
    },
    {
      "cell_type": "markdown",
      "source": [
        "Fit the model"
      ],
      "metadata": {
        "id": "shiKcY-LXzdY"
      }
    },
    {
      "cell_type": "code",
      "source": [
        "hist=model.fit(x_train,y_train_ohe,batch_size=128,epochs=100,validation_data=(x_test,y_test_ohe))"
      ],
      "metadata": {
        "colab": {
          "base_uri": "https://localhost:8080/"
        },
        "id": "1wiaBUhXXgW9",
        "outputId": "301c612a-8aaa-4cf9-ed39-71a43c0e791f"
      },
      "execution_count": 40,
      "outputs": [
        {
          "output_type": "stream",
          "name": "stdout",
          "text": [
            "Epoch 1/100\n",
            "\u001b[1m263/263\u001b[0m \u001b[32m━━━━━━━━━━━━━━━━━━━━\u001b[0m\u001b[37m\u001b[0m \u001b[1m4s\u001b[0m 8ms/step - accuracy: 0.6163 - loss: 8.1186 - val_accuracy: 0.8404 - val_loss: 0.8400\n",
            "Epoch 2/100\n",
            "\u001b[1m263/263\u001b[0m \u001b[32m━━━━━━━━━━━━━━━━━━━━\u001b[0m\u001b[37m\u001b[0m \u001b[1m1s\u001b[0m 4ms/step - accuracy: 0.8674 - loss: 0.5922 - val_accuracy: 0.8843 - val_loss: 0.5135\n",
            "Epoch 3/100\n",
            "\u001b[1m263/263\u001b[0m \u001b[32m━━━━━━━━━━━━━━━━━━━━\u001b[0m\u001b[37m\u001b[0m \u001b[1m1s\u001b[0m 4ms/step - accuracy: 0.9083 - loss: 0.3526 - val_accuracy: 0.8925 - val_loss: 0.4579\n",
            "Epoch 4/100\n",
            "\u001b[1m263/263\u001b[0m \u001b[32m━━━━━━━━━━━━━━━━━━━━\u001b[0m\u001b[37m\u001b[0m \u001b[1m1s\u001b[0m 5ms/step - accuracy: 0.9284 - loss: 0.2590 - val_accuracy: 0.9149 - val_loss: 0.3452\n",
            "Epoch 5/100\n",
            "\u001b[1m263/263\u001b[0m \u001b[32m━━━━━━━━━━━━━━━━━━━━\u001b[0m\u001b[37m\u001b[0m \u001b[1m1s\u001b[0m 4ms/step - accuracy: 0.9407 - loss: 0.2108 - val_accuracy: 0.9260 - val_loss: 0.3058\n",
            "Epoch 6/100\n",
            "\u001b[1m263/263\u001b[0m \u001b[32m━━━━━━━━━━━━━━━━━━━━\u001b[0m\u001b[37m\u001b[0m \u001b[1m1s\u001b[0m 4ms/step - accuracy: 0.9513 - loss: 0.1718 - val_accuracy: 0.9299 - val_loss: 0.2944\n",
            "Epoch 7/100\n",
            "\u001b[1m263/263\u001b[0m \u001b[32m━━━━━━━━━━━━━━━━━━━━\u001b[0m\u001b[37m\u001b[0m \u001b[1m1s\u001b[0m 4ms/step - accuracy: 0.9582 - loss: 0.1351 - val_accuracy: 0.9345 - val_loss: 0.2855\n",
            "Epoch 8/100\n",
            "\u001b[1m263/263\u001b[0m \u001b[32m━━━━━━━━━━━━━━━━━━━━\u001b[0m\u001b[37m\u001b[0m \u001b[1m1s\u001b[0m 4ms/step - accuracy: 0.9633 - loss: 0.1207 - val_accuracy: 0.9398 - val_loss: 0.2703\n",
            "Epoch 9/100\n",
            "\u001b[1m263/263\u001b[0m \u001b[32m━━━━━━━━━━━━━━━━━━━━\u001b[0m\u001b[37m\u001b[0m \u001b[1m2s\u001b[0m 6ms/step - accuracy: 0.9669 - loss: 0.1095 - val_accuracy: 0.9432 - val_loss: 0.2481\n",
            "Epoch 10/100\n",
            "\u001b[1m263/263\u001b[0m \u001b[32m━━━━━━━━━━━━━━━━━━━━\u001b[0m\u001b[37m\u001b[0m \u001b[1m3s\u001b[0m 6ms/step - accuracy: 0.9700 - loss: 0.0947 - val_accuracy: 0.9393 - val_loss: 0.2676\n",
            "Epoch 11/100\n",
            "\u001b[1m263/263\u001b[0m \u001b[32m━━━━━━━━━━━━━━━━━━━━\u001b[0m\u001b[37m\u001b[0m \u001b[1m1s\u001b[0m 4ms/step - accuracy: 0.9727 - loss: 0.0928 - val_accuracy: 0.9425 - val_loss: 0.2647\n",
            "Epoch 12/100\n",
            "\u001b[1m263/263\u001b[0m \u001b[32m━━━━━━━━━━━━━━━━━━━━\u001b[0m\u001b[37m\u001b[0m \u001b[1m1s\u001b[0m 4ms/step - accuracy: 0.9711 - loss: 0.0892 - val_accuracy: 0.9456 - val_loss: 0.2844\n",
            "Epoch 13/100\n",
            "\u001b[1m263/263\u001b[0m \u001b[32m━━━━━━━━━━━━━━━━━━━━\u001b[0m\u001b[37m\u001b[0m \u001b[1m1s\u001b[0m 4ms/step - accuracy: 0.9745 - loss: 0.0834 - val_accuracy: 0.9425 - val_loss: 0.2736\n",
            "Epoch 14/100\n",
            "\u001b[1m263/263\u001b[0m \u001b[32m━━━━━━━━━━━━━━━━━━━━\u001b[0m\u001b[37m\u001b[0m \u001b[1m1s\u001b[0m 4ms/step - accuracy: 0.9735 - loss: 0.0839 - val_accuracy: 0.9302 - val_loss: 0.3601\n",
            "Epoch 15/100\n",
            "\u001b[1m263/263\u001b[0m \u001b[32m━━━━━━━━━━━━━━━━━━━━\u001b[0m\u001b[37m\u001b[0m \u001b[1m1s\u001b[0m 4ms/step - accuracy: 0.9709 - loss: 0.0971 - val_accuracy: 0.9432 - val_loss: 0.2802\n",
            "Epoch 16/100\n",
            "\u001b[1m263/263\u001b[0m \u001b[32m━━━━━━━━━━━━━━━━━━━━\u001b[0m\u001b[37m\u001b[0m \u001b[1m1s\u001b[0m 4ms/step - accuracy: 0.9761 - loss: 0.0836 - val_accuracy: 0.9487 - val_loss: 0.2623\n",
            "Epoch 17/100\n",
            "\u001b[1m263/263\u001b[0m \u001b[32m━━━━━━━━━━━━━━━━━━━━\u001b[0m\u001b[37m\u001b[0m \u001b[1m1s\u001b[0m 4ms/step - accuracy: 0.9795 - loss: 0.0628 - val_accuracy: 0.9369 - val_loss: 0.3573\n",
            "Epoch 18/100\n",
            "\u001b[1m263/263\u001b[0m \u001b[32m━━━━━━━━━━━━━━━━━━━━\u001b[0m\u001b[37m\u001b[0m \u001b[1m1s\u001b[0m 5ms/step - accuracy: 0.9741 - loss: 0.0877 - val_accuracy: 0.9510 - val_loss: 0.2640\n",
            "Epoch 19/100\n",
            "\u001b[1m263/263\u001b[0m \u001b[32m━━━━━━━━━━━━━━━━━━━━\u001b[0m\u001b[37m\u001b[0m \u001b[1m2s\u001b[0m 7ms/step - accuracy: 0.9813 - loss: 0.0592 - val_accuracy: 0.9482 - val_loss: 0.2865\n",
            "Epoch 20/100\n",
            "\u001b[1m263/263\u001b[0m \u001b[32m━━━━━━━━━━━━━━━━━━━━\u001b[0m\u001b[37m\u001b[0m \u001b[1m2s\u001b[0m 8ms/step - accuracy: 0.9815 - loss: 0.0626 - val_accuracy: 0.9500 - val_loss: 0.2752\n",
            "Epoch 21/100\n",
            "\u001b[1m263/263\u001b[0m \u001b[32m━━━━━━━━━━━━━━━━━━━━\u001b[0m\u001b[37m\u001b[0m \u001b[1m2s\u001b[0m 5ms/step - accuracy: 0.9817 - loss: 0.0604 - val_accuracy: 0.9542 - val_loss: 0.2552\n",
            "Epoch 22/100\n",
            "\u001b[1m263/263\u001b[0m \u001b[32m━━━━━━━━━━━━━━━━━━━━\u001b[0m\u001b[37m\u001b[0m \u001b[1m1s\u001b[0m 5ms/step - accuracy: 0.9837 - loss: 0.0586 - val_accuracy: 0.9514 - val_loss: 0.2846\n",
            "Epoch 23/100\n",
            "\u001b[1m263/263\u001b[0m \u001b[32m━━━━━━━━━━━━━━━━━━━━\u001b[0m\u001b[37m\u001b[0m \u001b[1m1s\u001b[0m 5ms/step - accuracy: 0.9833 - loss: 0.0584 - val_accuracy: 0.9502 - val_loss: 0.3026\n",
            "Epoch 24/100\n",
            "\u001b[1m263/263\u001b[0m \u001b[32m━━━━━━━━━━━━━━━━━━━━\u001b[0m\u001b[37m\u001b[0m \u001b[1m1s\u001b[0m 4ms/step - accuracy: 0.9821 - loss: 0.0604 - val_accuracy: 0.9539 - val_loss: 0.2758\n",
            "Epoch 25/100\n",
            "\u001b[1m263/263\u001b[0m \u001b[32m━━━━━━━━━━━━━━━━━━━━\u001b[0m\u001b[37m\u001b[0m \u001b[1m1s\u001b[0m 4ms/step - accuracy: 0.9849 - loss: 0.0493 - val_accuracy: 0.9540 - val_loss: 0.2945\n",
            "Epoch 26/100\n",
            "\u001b[1m263/263\u001b[0m \u001b[32m━━━━━━━━━━━━━━━━━━━━\u001b[0m\u001b[37m\u001b[0m \u001b[1m1s\u001b[0m 4ms/step - accuracy: 0.9830 - loss: 0.0540 - val_accuracy: 0.9527 - val_loss: 0.3115\n",
            "Epoch 27/100\n",
            "\u001b[1m263/263\u001b[0m \u001b[32m━━━━━━━━━━━━━━━━━━━━\u001b[0m\u001b[37m\u001b[0m \u001b[1m1s\u001b[0m 5ms/step - accuracy: 0.9822 - loss: 0.0559 - val_accuracy: 0.9510 - val_loss: 0.3132\n",
            "Epoch 28/100\n",
            "\u001b[1m263/263\u001b[0m \u001b[32m━━━━━━━━━━━━━━━━━━━━\u001b[0m\u001b[37m\u001b[0m \u001b[1m3s\u001b[0m 7ms/step - accuracy: 0.9870 - loss: 0.0435 - val_accuracy: 0.9585 - val_loss: 0.2830\n",
            "Epoch 29/100\n",
            "\u001b[1m263/263\u001b[0m \u001b[32m━━━━━━━━━━━━━━━━━━━━\u001b[0m\u001b[37m\u001b[0m \u001b[1m2s\u001b[0m 7ms/step - accuracy: 0.9827 - loss: 0.0749 - val_accuracy: 0.9604 - val_loss: 0.2593\n",
            "Epoch 30/100\n",
            "\u001b[1m263/263\u001b[0m \u001b[32m━━━━━━━━━━━━━━━━━━━━\u001b[0m\u001b[37m\u001b[0m \u001b[1m2s\u001b[0m 5ms/step - accuracy: 0.9880 - loss: 0.0412 - val_accuracy: 0.9561 - val_loss: 0.2903\n",
            "Epoch 31/100\n",
            "\u001b[1m263/263\u001b[0m \u001b[32m━━━━━━━━━━━━━━━━━━━━\u001b[0m\u001b[37m\u001b[0m \u001b[1m2s\u001b[0m 5ms/step - accuracy: 0.9888 - loss: 0.0387 - val_accuracy: 0.9577 - val_loss: 0.2970\n",
            "Epoch 32/100\n",
            "\u001b[1m263/263\u001b[0m \u001b[32m━━━━━━━━━━━━━━━━━━━━\u001b[0m\u001b[37m\u001b[0m \u001b[1m1s\u001b[0m 5ms/step - accuracy: 0.9893 - loss: 0.0355 - val_accuracy: 0.9598 - val_loss: 0.3140\n",
            "Epoch 33/100\n",
            "\u001b[1m263/263\u001b[0m \u001b[32m━━━━━━━━━━━━━━━━━━━━\u001b[0m\u001b[37m\u001b[0m \u001b[1m1s\u001b[0m 5ms/step - accuracy: 0.9885 - loss: 0.0417 - val_accuracy: 0.9585 - val_loss: 0.2793\n",
            "Epoch 34/100\n",
            "\u001b[1m263/263\u001b[0m \u001b[32m━━━━━━━━━━━━━━━━━━━━\u001b[0m\u001b[37m\u001b[0m \u001b[1m1s\u001b[0m 5ms/step - accuracy: 0.9905 - loss: 0.0308 - val_accuracy: 0.9571 - val_loss: 0.3025\n",
            "Epoch 35/100\n",
            "\u001b[1m263/263\u001b[0m \u001b[32m━━━━━━━━━━━━━━━━━━━━\u001b[0m\u001b[37m\u001b[0m \u001b[1m1s\u001b[0m 5ms/step - accuracy: 0.9904 - loss: 0.0341 - val_accuracy: 0.9539 - val_loss: 0.3203\n",
            "Epoch 36/100\n",
            "\u001b[1m263/263\u001b[0m \u001b[32m━━━━━━━━━━━━━━━━━━━━\u001b[0m\u001b[37m\u001b[0m \u001b[1m3s\u001b[0m 7ms/step - accuracy: 0.9895 - loss: 0.0383 - val_accuracy: 0.9565 - val_loss: 0.3422\n",
            "Epoch 37/100\n",
            "\u001b[1m263/263\u001b[0m \u001b[32m━━━━━━━━━━━━━━━━━━━━\u001b[0m\u001b[37m\u001b[0m \u001b[1m2s\u001b[0m 7ms/step - accuracy: 0.9875 - loss: 0.0494 - val_accuracy: 0.9599 - val_loss: 0.2890\n",
            "Epoch 38/100\n",
            "\u001b[1m263/263\u001b[0m \u001b[32m━━━━━━━━━━━━━━━━━━━━\u001b[0m\u001b[37m\u001b[0m \u001b[1m2s\u001b[0m 6ms/step - accuracy: 0.9918 - loss: 0.0294 - val_accuracy: 0.9610 - val_loss: 0.2818\n",
            "Epoch 39/100\n",
            "\u001b[1m263/263\u001b[0m \u001b[32m━━━━━━━━━━━━━━━━━━━━\u001b[0m\u001b[37m\u001b[0m \u001b[1m1s\u001b[0m 5ms/step - accuracy: 0.9932 - loss: 0.0217 - val_accuracy: 0.9630 - val_loss: 0.2908\n",
            "Epoch 40/100\n",
            "\u001b[1m263/263\u001b[0m \u001b[32m━━━━━━━━━━━━━━━━━━━━\u001b[0m\u001b[37m\u001b[0m \u001b[1m1s\u001b[0m 5ms/step - accuracy: 0.9926 - loss: 0.0260 - val_accuracy: 0.9589 - val_loss: 0.2927\n",
            "Epoch 41/100\n",
            "\u001b[1m263/263\u001b[0m \u001b[32m━━━━━━━━━━━━━━━━━━━━\u001b[0m\u001b[37m\u001b[0m \u001b[1m1s\u001b[0m 5ms/step - accuracy: 0.9862 - loss: 0.0497 - val_accuracy: 0.9611 - val_loss: 0.2810\n",
            "Epoch 42/100\n",
            "\u001b[1m263/263\u001b[0m \u001b[32m━━━━━━━━━━━━━━━━━━━━\u001b[0m\u001b[37m\u001b[0m \u001b[1m1s\u001b[0m 5ms/step - accuracy: 0.9918 - loss: 0.0269 - val_accuracy: 0.9635 - val_loss: 0.2728\n",
            "Epoch 43/100\n",
            "\u001b[1m263/263\u001b[0m \u001b[32m━━━━━━━━━━━━━━━━━━━━\u001b[0m\u001b[37m\u001b[0m \u001b[1m1s\u001b[0m 5ms/step - accuracy: 0.9924 - loss: 0.0284 - val_accuracy: 0.9582 - val_loss: 0.3076\n",
            "Epoch 44/100\n",
            "\u001b[1m263/263\u001b[0m \u001b[32m━━━━━━━━━━━━━━━━━━━━\u001b[0m\u001b[37m\u001b[0m \u001b[1m1s\u001b[0m 5ms/step - accuracy: 0.9909 - loss: 0.0341 - val_accuracy: 0.9602 - val_loss: 0.2995\n",
            "Epoch 45/100\n",
            "\u001b[1m263/263\u001b[0m \u001b[32m━━━━━━━━━━━━━━━━━━━━\u001b[0m\u001b[37m\u001b[0m \u001b[1m1s\u001b[0m 5ms/step - accuracy: 0.9926 - loss: 0.0267 - val_accuracy: 0.9611 - val_loss: 0.3039\n",
            "Epoch 46/100\n",
            "\u001b[1m263/263\u001b[0m \u001b[32m━━━━━━━━━━━━━━━━━━━━\u001b[0m\u001b[37m\u001b[0m \u001b[1m3s\u001b[0m 7ms/step - accuracy: 0.9926 - loss: 0.0247 - val_accuracy: 0.9593 - val_loss: 0.3290\n",
            "Epoch 47/100\n",
            "\u001b[1m263/263\u001b[0m \u001b[32m━━━━━━━━━━━━━━━━━━━━\u001b[0m\u001b[37m\u001b[0m \u001b[1m2s\u001b[0m 6ms/step - accuracy: 0.9924 - loss: 0.0293 - val_accuracy: 0.9646 - val_loss: 0.2873\n",
            "Epoch 48/100\n",
            "\u001b[1m263/263\u001b[0m \u001b[32m━━━━━━━━━━━━━━━━━━━━\u001b[0m\u001b[37m\u001b[0m \u001b[1m2s\u001b[0m 5ms/step - accuracy: 0.9948 - loss: 0.0179 - val_accuracy: 0.9589 - val_loss: 0.3479\n",
            "Epoch 49/100\n",
            "\u001b[1m263/263\u001b[0m \u001b[32m━━━━━━━━━━━━━━━━━━━━\u001b[0m\u001b[37m\u001b[0m \u001b[1m1s\u001b[0m 5ms/step - accuracy: 0.9905 - loss: 0.0355 - val_accuracy: 0.9605 - val_loss: 0.3211\n",
            "Epoch 50/100\n",
            "\u001b[1m263/263\u001b[0m \u001b[32m━━━━━━━━━━━━━━━━━━━━\u001b[0m\u001b[37m\u001b[0m \u001b[1m1s\u001b[0m 5ms/step - accuracy: 0.9931 - loss: 0.0230 - val_accuracy: 0.9617 - val_loss: 0.3201\n",
            "Epoch 51/100\n",
            "\u001b[1m263/263\u001b[0m \u001b[32m━━━━━━━━━━━━━━━━━━━━\u001b[0m\u001b[37m\u001b[0m \u001b[1m1s\u001b[0m 5ms/step - accuracy: 0.9946 - loss: 0.0185 - val_accuracy: 0.9583 - val_loss: 0.3484\n",
            "Epoch 52/100\n",
            "\u001b[1m263/263\u001b[0m \u001b[32m━━━━━━━━━━━━━━━━━━━━\u001b[0m\u001b[37m\u001b[0m \u001b[1m1s\u001b[0m 5ms/step - accuracy: 0.9924 - loss: 0.0292 - val_accuracy: 0.9630 - val_loss: 0.3006\n",
            "Epoch 53/100\n",
            "\u001b[1m263/263\u001b[0m \u001b[32m━━━━━━━━━━━━━━━━━━━━\u001b[0m\u001b[37m\u001b[0m \u001b[1m1s\u001b[0m 5ms/step - accuracy: 0.9930 - loss: 0.0283 - val_accuracy: 0.9576 - val_loss: 0.3376\n",
            "Epoch 54/100\n",
            "\u001b[1m263/263\u001b[0m \u001b[32m━━━━━━━━━━━━━━━━━━━━\u001b[0m\u001b[37m\u001b[0m \u001b[1m2s\u001b[0m 6ms/step - accuracy: 0.9938 - loss: 0.0255 - val_accuracy: 0.9594 - val_loss: 0.3542\n",
            "Epoch 55/100\n",
            "\u001b[1m263/263\u001b[0m \u001b[32m━━━━━━━━━━━━━━━━━━━━\u001b[0m\u001b[37m\u001b[0m \u001b[1m3s\u001b[0m 7ms/step - accuracy: 0.9937 - loss: 0.0188 - val_accuracy: 0.9638 - val_loss: 0.3215\n",
            "Epoch 56/100\n",
            "\u001b[1m263/263\u001b[0m \u001b[32m━━━━━━━━━━━━━━━━━━━━\u001b[0m\u001b[37m\u001b[0m \u001b[1m2s\u001b[0m 5ms/step - accuracy: 0.9962 - loss: 0.0129 - val_accuracy: 0.9620 - val_loss: 0.3273\n",
            "Epoch 57/100\n",
            "\u001b[1m263/263\u001b[0m \u001b[32m━━━━━━━━━━━━━━━━━━━━\u001b[0m\u001b[37m\u001b[0m \u001b[1m1s\u001b[0m 5ms/step - accuracy: 0.9941 - loss: 0.0196 - val_accuracy: 0.9626 - val_loss: 0.3047\n",
            "Epoch 58/100\n",
            "\u001b[1m263/263\u001b[0m \u001b[32m━━━━━━━━━━━━━━━━━━━━\u001b[0m\u001b[37m\u001b[0m \u001b[1m1s\u001b[0m 5ms/step - accuracy: 0.9914 - loss: 0.0303 - val_accuracy: 0.9617 - val_loss: 0.3136\n",
            "Epoch 59/100\n",
            "\u001b[1m263/263\u001b[0m \u001b[32m━━━━━━━━━━━━━━━━━━━━\u001b[0m\u001b[37m\u001b[0m \u001b[1m1s\u001b[0m 5ms/step - accuracy: 0.9947 - loss: 0.0163 - val_accuracy: 0.9652 - val_loss: 0.3056\n",
            "Epoch 60/100\n",
            "\u001b[1m263/263\u001b[0m \u001b[32m━━━━━━━━━━━━━━━━━━━━\u001b[0m\u001b[37m\u001b[0m \u001b[1m1s\u001b[0m 4ms/step - accuracy: 0.9948 - loss: 0.0210 - val_accuracy: 0.9649 - val_loss: 0.3012\n",
            "Epoch 61/100\n",
            "\u001b[1m263/263\u001b[0m \u001b[32m━━━━━━━━━━━━━━━━━━━━\u001b[0m\u001b[37m\u001b[0m \u001b[1m1s\u001b[0m 4ms/step - accuracy: 0.9925 - loss: 0.0307 - val_accuracy: 0.9654 - val_loss: 0.2927\n",
            "Epoch 62/100\n",
            "\u001b[1m263/263\u001b[0m \u001b[32m━━━━━━━━━━━━━━━━━━━━\u001b[0m\u001b[37m\u001b[0m \u001b[1m1s\u001b[0m 5ms/step - accuracy: 0.9941 - loss: 0.0217 - val_accuracy: 0.9567 - val_loss: 0.3813\n",
            "Epoch 63/100\n",
            "\u001b[1m263/263\u001b[0m \u001b[32m━━━━━━━━━━━━━━━━━━━━\u001b[0m\u001b[37m\u001b[0m \u001b[1m2s\u001b[0m 7ms/step - accuracy: 0.9937 - loss: 0.0197 - val_accuracy: 0.9645 - val_loss: 0.3100\n",
            "Epoch 64/100\n",
            "\u001b[1m263/263\u001b[0m \u001b[32m━━━━━━━━━━━━━━━━━━━━\u001b[0m\u001b[37m\u001b[0m \u001b[1m2s\u001b[0m 7ms/step - accuracy: 0.9976 - loss: 0.0093 - val_accuracy: 0.9646 - val_loss: 0.3227\n",
            "Epoch 65/100\n",
            "\u001b[1m263/263\u001b[0m \u001b[32m━━━━━━━━━━━━━━━━━━━━\u001b[0m\u001b[37m\u001b[0m \u001b[1m2s\u001b[0m 5ms/step - accuracy: 0.9970 - loss: 0.0123 - val_accuracy: 0.9640 - val_loss: 0.3139\n",
            "Epoch 66/100\n",
            "\u001b[1m263/263\u001b[0m \u001b[32m━━━━━━━━━━━━━━━━━━━━\u001b[0m\u001b[37m\u001b[0m \u001b[1m1s\u001b[0m 5ms/step - accuracy: 0.9944 - loss: 0.0198 - val_accuracy: 0.9629 - val_loss: 0.3411\n",
            "Epoch 67/100\n",
            "\u001b[1m263/263\u001b[0m \u001b[32m━━━━━━━━━━━━━━━━━━━━\u001b[0m\u001b[37m\u001b[0m \u001b[1m1s\u001b[0m 5ms/step - accuracy: 0.9958 - loss: 0.0144 - val_accuracy: 0.9612 - val_loss: 0.3510\n",
            "Epoch 68/100\n",
            "\u001b[1m263/263\u001b[0m \u001b[32m━━━━━━━━━━━━━━━━━━━━\u001b[0m\u001b[37m\u001b[0m \u001b[1m1s\u001b[0m 5ms/step - accuracy: 0.9935 - loss: 0.0231 - val_accuracy: 0.9651 - val_loss: 0.3050\n",
            "Epoch 69/100\n",
            "\u001b[1m263/263\u001b[0m \u001b[32m━━━━━━━━━━━━━━━━━━━━\u001b[0m\u001b[37m\u001b[0m \u001b[1m1s\u001b[0m 4ms/step - accuracy: 0.9945 - loss: 0.0220 - val_accuracy: 0.9637 - val_loss: 0.3260\n",
            "Epoch 70/100\n",
            "\u001b[1m263/263\u001b[0m \u001b[32m━━━━━━━━━━━━━━━━━━━━\u001b[0m\u001b[37m\u001b[0m \u001b[1m1s\u001b[0m 4ms/step - accuracy: 0.9971 - loss: 0.0094 - val_accuracy: 0.9623 - val_loss: 0.3259\n",
            "Epoch 71/100\n",
            "\u001b[1m263/263\u001b[0m \u001b[32m━━━━━━━━━━━━━━━━━━━━\u001b[0m\u001b[37m\u001b[0m \u001b[1m1s\u001b[0m 4ms/step - accuracy: 0.9930 - loss: 0.0320 - val_accuracy: 0.9620 - val_loss: 0.3508\n",
            "Epoch 72/100\n",
            "\u001b[1m263/263\u001b[0m \u001b[32m━━━━━━━━━━━━━━━━━━━━\u001b[0m\u001b[37m\u001b[0m \u001b[1m1s\u001b[0m 5ms/step - accuracy: 0.9962 - loss: 0.0127 - val_accuracy: 0.9665 - val_loss: 0.3193\n",
            "Epoch 73/100\n",
            "\u001b[1m263/263\u001b[0m \u001b[32m━━━━━━━━━━━━━━━━━━━━\u001b[0m\u001b[37m\u001b[0m \u001b[1m2s\u001b[0m 7ms/step - accuracy: 0.9961 - loss: 0.0179 - val_accuracy: 0.9642 - val_loss: 0.3393\n",
            "Epoch 74/100\n",
            "\u001b[1m263/263\u001b[0m \u001b[32m━━━━━━━━━━━━━━━━━━━━\u001b[0m\u001b[37m\u001b[0m \u001b[1m2s\u001b[0m 6ms/step - accuracy: 0.9954 - loss: 0.0218 - val_accuracy: 0.9650 - val_loss: 0.3292\n",
            "Epoch 75/100\n",
            "\u001b[1m263/263\u001b[0m \u001b[32m━━━━━━━━━━━━━━━━━━━━\u001b[0m\u001b[37m\u001b[0m \u001b[1m2s\u001b[0m 4ms/step - accuracy: 0.9954 - loss: 0.0180 - val_accuracy: 0.9619 - val_loss: 0.3350\n",
            "Epoch 76/100\n",
            "\u001b[1m263/263\u001b[0m \u001b[32m━━━━━━━━━━━━━━━━━━━━\u001b[0m\u001b[37m\u001b[0m \u001b[1m1s\u001b[0m 5ms/step - accuracy: 0.9965 - loss: 0.0130 - val_accuracy: 0.9679 - val_loss: 0.3106\n",
            "Epoch 77/100\n",
            "\u001b[1m263/263\u001b[0m \u001b[32m━━━━━━━━━━━━━━━━━━━━\u001b[0m\u001b[37m\u001b[0m \u001b[1m1s\u001b[0m 4ms/step - accuracy: 0.9955 - loss: 0.0153 - val_accuracy: 0.9670 - val_loss: 0.3294\n",
            "Epoch 78/100\n",
            "\u001b[1m263/263\u001b[0m \u001b[32m━━━━━━━━━━━━━━━━━━━━\u001b[0m\u001b[37m\u001b[0m \u001b[1m1s\u001b[0m 4ms/step - accuracy: 0.9954 - loss: 0.0153 - val_accuracy: 0.9679 - val_loss: 0.3217\n",
            "Epoch 79/100\n",
            "\u001b[1m263/263\u001b[0m \u001b[32m━━━━━━━━━━━━━━━━━━━━\u001b[0m\u001b[37m\u001b[0m \u001b[1m1s\u001b[0m 4ms/step - accuracy: 0.9965 - loss: 0.0131 - val_accuracy: 0.9664 - val_loss: 0.3640\n",
            "Epoch 80/100\n",
            "\u001b[1m263/263\u001b[0m \u001b[32m━━━━━━━━━━━━━━━━━━━━\u001b[0m\u001b[37m\u001b[0m \u001b[1m1s\u001b[0m 5ms/step - accuracy: 0.9961 - loss: 0.0142 - val_accuracy: 0.9679 - val_loss: 0.3216\n",
            "Epoch 81/100\n",
            "\u001b[1m263/263\u001b[0m \u001b[32m━━━━━━━━━━━━━━━━━━━━\u001b[0m\u001b[37m\u001b[0m \u001b[1m1s\u001b[0m 5ms/step - accuracy: 0.9975 - loss: 0.0080 - val_accuracy: 0.9679 - val_loss: 0.3457\n",
            "Epoch 82/100\n",
            "\u001b[1m263/263\u001b[0m \u001b[32m━━━━━━━━━━━━━━━━━━━━\u001b[0m\u001b[37m\u001b[0m \u001b[1m3s\u001b[0m 7ms/step - accuracy: 0.9970 - loss: 0.0107 - val_accuracy: 0.9639 - val_loss: 0.3816\n",
            "Epoch 83/100\n",
            "\u001b[1m263/263\u001b[0m \u001b[32m━━━━━━━━━━━━━━━━━━━━\u001b[0m\u001b[37m\u001b[0m \u001b[1m2s\u001b[0m 5ms/step - accuracy: 0.9957 - loss: 0.0192 - val_accuracy: 0.9613 - val_loss: 0.3392\n",
            "Epoch 84/100\n",
            "\u001b[1m263/263\u001b[0m \u001b[32m━━━━━━━━━━━━━━━━━━━━\u001b[0m\u001b[37m\u001b[0m \u001b[1m1s\u001b[0m 5ms/step - accuracy: 0.9933 - loss: 0.0277 - val_accuracy: 0.9601 - val_loss: 0.3849\n",
            "Epoch 85/100\n",
            "\u001b[1m263/263\u001b[0m \u001b[32m━━━━━━━━━━━━━━━━━━━━\u001b[0m\u001b[37m\u001b[0m \u001b[1m1s\u001b[0m 5ms/step - accuracy: 0.9929 - loss: 0.0258 - val_accuracy: 0.9624 - val_loss: 0.3933\n",
            "Epoch 86/100\n",
            "\u001b[1m263/263\u001b[0m \u001b[32m━━━━━━━━━━━━━━━━━━━━\u001b[0m\u001b[37m\u001b[0m \u001b[1m2s\u001b[0m 4ms/step - accuracy: 0.9974 - loss: 0.0120 - val_accuracy: 0.9661 - val_loss: 0.3525\n",
            "Epoch 87/100\n",
            "\u001b[1m263/263\u001b[0m \u001b[32m━━━━━━━━━━━━━━━━━━━━\u001b[0m\u001b[37m\u001b[0m \u001b[1m1s\u001b[0m 4ms/step - accuracy: 0.9971 - loss: 0.0103 - val_accuracy: 0.9662 - val_loss: 0.3431\n",
            "Epoch 88/100\n",
            "\u001b[1m263/263\u001b[0m \u001b[32m━━━━━━━━━━━━━━━━━━━━\u001b[0m\u001b[37m\u001b[0m \u001b[1m1s\u001b[0m 4ms/step - accuracy: 0.9985 - loss: 0.0046 - val_accuracy: 0.9674 - val_loss: 0.3658\n",
            "Epoch 89/100\n",
            "\u001b[1m263/263\u001b[0m \u001b[32m━━━━━━━━━━━━━━━━━━━━\u001b[0m\u001b[37m\u001b[0m \u001b[1m2s\u001b[0m 6ms/step - accuracy: 0.9973 - loss: 0.0119 - val_accuracy: 0.9664 - val_loss: 0.3632\n",
            "Epoch 90/100\n",
            "\u001b[1m263/263\u001b[0m \u001b[32m━━━━━━━━━━━━━━━━━━━━\u001b[0m\u001b[37m\u001b[0m \u001b[1m3s\u001b[0m 7ms/step - accuracy: 0.9969 - loss: 0.0119 - val_accuracy: 0.9646 - val_loss: 0.3543\n",
            "Epoch 91/100\n",
            "\u001b[1m263/263\u001b[0m \u001b[32m━━━━━━━━━━━━━━━━━━━━\u001b[0m\u001b[37m\u001b[0m \u001b[1m2s\u001b[0m 4ms/step - accuracy: 0.9966 - loss: 0.0162 - val_accuracy: 0.9635 - val_loss: 0.3865\n",
            "Epoch 92/100\n",
            "\u001b[1m263/263\u001b[0m \u001b[32m━━━━━━━━━━━━━━━━━━━━\u001b[0m\u001b[37m\u001b[0m \u001b[1m1s\u001b[0m 4ms/step - accuracy: 0.9969 - loss: 0.0115 - val_accuracy: 0.9627 - val_loss: 0.4119\n",
            "Epoch 93/100\n",
            "\u001b[1m263/263\u001b[0m \u001b[32m━━━━━━━━━━━━━━━━━━━━\u001b[0m\u001b[37m\u001b[0m \u001b[1m1s\u001b[0m 5ms/step - accuracy: 0.9941 - loss: 0.0343 - val_accuracy: 0.9621 - val_loss: 0.3828\n",
            "Epoch 94/100\n",
            "\u001b[1m263/263\u001b[0m \u001b[32m━━━━━━━━━━━━━━━━━━━━\u001b[0m\u001b[37m\u001b[0m \u001b[1m1s\u001b[0m 4ms/step - accuracy: 0.9966 - loss: 0.0169 - val_accuracy: 0.9667 - val_loss: 0.3305\n",
            "Epoch 95/100\n",
            "\u001b[1m263/263\u001b[0m \u001b[32m━━━━━━━━━━━━━━━━━━━━\u001b[0m\u001b[37m\u001b[0m \u001b[1m1s\u001b[0m 5ms/step - accuracy: 0.9973 - loss: 0.0089 - val_accuracy: 0.9652 - val_loss: 0.3660\n",
            "Epoch 96/100\n",
            "\u001b[1m263/263\u001b[0m \u001b[32m━━━━━━━━━━━━━━━━━━━━\u001b[0m\u001b[37m\u001b[0m \u001b[1m1s\u001b[0m 4ms/step - accuracy: 0.9967 - loss: 0.0147 - val_accuracy: 0.9670 - val_loss: 0.3492\n",
            "Epoch 97/100\n",
            "\u001b[1m263/263\u001b[0m \u001b[32m━━━━━━━━━━━━━━━━━━━━\u001b[0m\u001b[37m\u001b[0m \u001b[1m1s\u001b[0m 5ms/step - accuracy: 0.9945 - loss: 0.0219 - val_accuracy: 0.9661 - val_loss: 0.3525\n",
            "Epoch 98/100\n",
            "\u001b[1m263/263\u001b[0m \u001b[32m━━━━━━━━━━━━━━━━━━━━\u001b[0m\u001b[37m\u001b[0m \u001b[1m2s\u001b[0m 7ms/step - accuracy: 0.9970 - loss: 0.0129 - val_accuracy: 0.9657 - val_loss: 0.3710\n",
            "Epoch 99/100\n",
            "\u001b[1m263/263\u001b[0m \u001b[32m━━━━━━━━━━━━━━━━━━━━\u001b[0m\u001b[37m\u001b[0m \u001b[1m2s\u001b[0m 7ms/step - accuracy: 0.9973 - loss: 0.0101 - val_accuracy: 0.9662 - val_loss: 0.3838\n",
            "Epoch 100/100\n",
            "\u001b[1m263/263\u001b[0m \u001b[32m━━━━━━━━━━━━━━━━━━━━\u001b[0m\u001b[37m\u001b[0m \u001b[1m2s\u001b[0m 5ms/step - accuracy: 0.9983 - loss: 0.0058 - val_accuracy: 0.9704 - val_loss: 0.3562\n"
          ]
        }
      ]
    },
    {
      "cell_type": "code",
      "source": [
        "plt.plot(hist.history['accuracy'])\n",
        "plt.plot(hist.history['val_accuracy'])\n",
        "plt.title('model accuracy')\n",
        "plt.ylabel('accuracy')\n",
        "plt.xlabel('epoch')\n",
        "plt.legend(['train','test'],loc='upper left')"
      ],
      "metadata": {
        "colab": {
          "base_uri": "https://localhost:8080/",
          "height": 489
        },
        "id": "1Dsumpm_YzT0",
        "outputId": "645be82a-fa08-4b90-81b3-5096bebf9bbc"
      },
      "execution_count": 41,
      "outputs": [
        {
          "output_type": "execute_result",
          "data": {
            "text/plain": [
              "<matplotlib.legend.Legend at 0x7869295f4d60>"
            ]
          },
          "metadata": {},
          "execution_count": 41
        },
        {
          "output_type": "display_data",
          "data": {
            "text/plain": [
              "<Figure size 640x480 with 1 Axes>"
            ],
            "image/png": "[encoded data removed]"
          },
          "metadata": {}
        }
      ]
    },
    {
      "cell_type": "code",
      "source": [
        "plt.plot(hist.history['loss'])\n",
        "plt.plot(hist.history['val_loss'])\n",
        "plt.title('model loss')\n",
        "plt.ylabel('loss')\n",
        "plt.xlabel('epoch')\n",
        "plt.legend(['train','test'],loc='upper left')"
      ],
      "metadata": {
        "colab": {
          "base_uri": "https://localhost:8080/",
          "height": 489
        },
        "id": "s2Z32t47baaT",
        "outputId": "0ec34eea-f359-484d-b6f1-d205e86005ec"
      },
      "execution_count": 42,
      "outputs": [
        {
          "output_type": "execute_result",
          "data": {
            "text/plain": [
              "<matplotlib.legend.Legend at 0x78692b19ab60>"
            ]
          },
          "metadata": {},
          "execution_count": 42
        },
        {
          "output_type": "display_data",
          "data": {
            "text/plain": [
              "<Figure size 640x480 with 1 Axes>"
            ],
            "image/png": "[encoded data removed]"
          },
          "metadata": {}
        }
      ]
    },
    {
      "cell_type": "markdown",
      "source": [
        "Model Evaluation"
      ],
      "metadata": {
        "id": "rQ-4Ig1hdMlV"
      }
    },
    {
      "cell_type": "code",
      "source": [
        "y_hat_train_dense=np.argmax(model.predict(x_train),axis=1)\n",
        "y_hat_test_dense=np.argmax(model.predict(x_test),axis=1)"
      ],
      "metadata": {
        "colab": {
          "base_uri": "https://localhost:8080/"
        },
        "id": "bXhriN1ndKu-",
        "outputId": "8d20a9c0-dd34-44f7-d6b1-9a2c179c9fb6"
      },
      "execution_count": 43,
      "outputs": [
        {
          "output_type": "stream",
          "name": "stdout",
          "text": [
            "\u001b[1m1050/1050\u001b[0m \u001b[32m━━━━━━━━━━━━━━━━━━━━\u001b[0m\u001b[37m\u001b[0m \u001b[1m2s\u001b[0m 2ms/step\n",
            "\u001b[1m263/263\u001b[0m \u001b[32m━━━━━━━━━━━━━━━━━━━━\u001b[0m\u001b[37m\u001b[0m \u001b[1m0s\u001b[0m 2ms/step\n"
          ]
        }
      ]
    },
    {
      "cell_type": "code",
      "source": [
        "y_hat_train_dense"
      ],
      "metadata": {
        "colab": {
          "base_uri": "https://localhost:8080/"
        },
        "id": "y1Tw_MQJdYHV",
        "outputId": "751478e9-3384-4288-84d3-88402672c2b3"
      },
      "execution_count": 44,
      "outputs": [
        {
          "output_type": "execute_result",
          "data": {
            "text/plain": [
              "array([4, 7, 7, ..., 5, 6, 0])"
            ]
          },
          "metadata": {},
          "execution_count": 44
        }
      ]
    },
    {
      "cell_type": "code",
      "source": [
        "y_hat_test_dense"
      ],
      "metadata": {
        "colab": {
          "base_uri": "https://localhost:8080/"
        },
        "id": "UpACzVNxd7US",
        "outputId": "60402853-5512-41de-acd4-357011e48d0a"
      },
      "execution_count": 45,
      "outputs": [
        {
          "output_type": "execute_result",
          "data": {
            "text/plain": [
              "array([7, 3, 9, ..., 6, 4, 1])"
            ]
          },
          "metadata": {},
          "execution_count": 45
        }
      ]
    },
    {
      "cell_type": "code",
      "source": [
        "def model_eval(actual,predicted):\n",
        "  accuracy_score_value=accuracy_score(actual,predicted)\n",
        "  classification_report_value=classification_report(actual,predicted)\n",
        "  confusion_matrix_value=confusion_matrix(actual,predicted)\n",
        "  print(\"Accuracy Score:{}\".format(accuracy_score_value))\n",
        "  print(\"Classification Report:{}\".format(classification_report_value))\n",
        "  print(\"Confusion Matrix:{}\".format(confusion_matrix_value))"
      ],
      "metadata": {
        "id": "j1v3bM65eaCw"
      },
      "execution_count": 46,
      "outputs": []
    },
    {
      "cell_type": "markdown",
      "source": [
        "\n",
        "\n",
        "---\n",
        "\n",
        "\n",
        "\n",
        "---\n",
        "\n"
      ],
      "metadata": {
        "id": "wyQnIyNzeZYf"
      }
    },
    {
      "cell_type": "code",
      "source": [
        "model_eval(y_test,y_hat_test_dense)"
      ],
      "metadata": {
        "colab": {
          "base_uri": "https://localhost:8080/"
        },
        "id": "QG_eKZjweNjo",
        "outputId": "f6b56e63-7d0e-41b2-8d3f-5c2044ad1f50"
      },
      "execution_count": 48,
      "outputs": [
        {
          "output_type": "stream",
          "name": "stdout",
          "text": [
            "Accuracy Score:0.9703571428571428\n",
            "Classification Report:              precision    recall  f1-score   support\n",
            "\n",
            "           0       0.98      0.98      0.98       796\n",
            "           1       0.99      0.99      0.99       946\n",
            "           2       0.97      0.98      0.97       856\n",
            "           3       0.95      0.96      0.95       856\n",
            "           4       0.97      0.98      0.97       826\n",
            "           5       0.97      0.95      0.96       773\n",
            "           6       0.98      0.98      0.98       787\n",
            "           7       0.98      0.97      0.97       869\n",
            "           8       0.94      0.96      0.95       836\n",
            "           9       0.98      0.95      0.96       855\n",
            "\n",
            "    accuracy                           0.97      8400\n",
            "   macro avg       0.97      0.97      0.97      8400\n",
            "weighted avg       0.97      0.97      0.97      8400\n",
            "\n",
            "Confusion Matrix:[[783   0   0   1   2   0   7   0   2   1]\n",
            " [  0 934   4   2   1   0   0   3   2   0]\n",
            " [  2   0 838   3   4   1   0   4   4   0]\n",
            " [  2   0   6 821   0  15   0   1  10   1]\n",
            " [  2   1   2   0 807   0   5   0   4   5]\n",
            " [  0   0   2  16   0 738   4   0  13   0]\n",
            " [  4   2   1   0   1   3 772   0   4   0]\n",
            " [  0   1   8   6   2   0   0 844   2   6]\n",
            " [  1  10   3   5   3   2   2   2 806   2]\n",
            " [  1   0   1  11  11   5   0   9   9 808]]\n"
          ]
        }
      ]
    },
    {
      "cell_type": "code",
      "source": [
        "model= Sequential()\n",
        "model.add(Dense(256,activation='relu',input_shape=(784,)))#layer1\n",
        "model.add(Dropout(0.2))\n",
        "model.add(Dense(256,activation='relu'))#layer2\n",
        "model.add(Dropout(0.2))\n",
        "model.add(Dense(256,activation='relu'))#layer3\n",
        "model.add(Dropout(0.2))\n",
        "model.add(Dense(10,activation='softmax'))#output layer\n",
        "model.add\n"
      ],
      "metadata": {
        "colab": {
          "base_uri": "https://localhost:8080/",
          "height": 228
        },
        "id": "ll2Y9QcigWpT",
        "outputId": "0aeacd8f-b45b-4e8f-8daf-821642c8f57a"
      },
      "execution_count": 47,
      "outputs": [
        {
          "output_type": "stream",
          "name": "stderr",
          "text": [
            "/usr/local/lib/python3.10/dist-packages/keras/src/layers/core/dense.py:87: UserWarning: Do not pass an `input_shape`/`input_dim` argument to a layer. When using Sequential models, prefer using an `Input(shape)` object as the first layer in the model instead.\n",
            "  super().__init__(activity_regularizer=activity_regularizer, **kwargs)\n"
          ]
        },
        {
          "output_type": "execute_result",
          "data": {
            "text/plain": [
              "<bound method Sequential.add of <Sequential name=sequential_1, built=True>>"
            ],
            "text/html": [
              "<div style=\"max-width:800px; border: 1px solid var(--colab-border-color);\"><style>\n",
              "      pre.function-repr-contents {\n",
              "        overflow-x: auto;\n",
              "        padding: 8px 12px;\n",
              "        max-height: 500px;\n",
              "      }\n",
              "\n",
              "      pre.function-repr-contents.function-repr-contents-collapsed {\n",
              "        cursor: pointer;\n",
              "        max-height: 100px;\n",
              "      }\n",
              "    </style>\n",
              "    <pre style=\"white-space: initial; background:\n",
              "         var(--colab-secondary-surface-color); padding: 8px 12px;\n",
              "         border-bottom: 1px solid var(--colab-border-color);\"><b>keras.src.models.sequential.Sequential.add</b><br/>def add(layer, rebuild=True)</pre><pre class=\"function-repr-contents function-repr-contents-collapsed\" style=\"\"><a class=\"filepath\" style=\"display:none\" href=\"#\">/usr/local/lib/python3.10/dist-packages/keras/src/models/sequential.py</a>Adds a layer instance on top of the layer stack.\n",
              "\n",
              "Args:\n",
              "    layer: layer instance.</pre>\n",
              "      <script>\n",
              "      if (google.colab.kernel.accessAllowed && google.colab.files && google.colab.files.view) {\n",
              "        for (const element of document.querySelectorAll('.filepath')) {\n",
              "          element.style.display = 'block'\n",
              "          element.onclick = (event) => {\n",
              "            event.preventDefault();\n",
              "            event.stopPropagation();\n",
              "            google.colab.files.view(element.textContent, 76);\n",
              "          };\n",
              "        }\n",
              "      }\n",
              "      for (const element of document.querySelectorAll('.function-repr-contents')) {\n",
              "        element.onclick = (event) => {\n",
              "          event.preventDefault();\n",
              "          event.stopPropagation();\n",
              "          element.classList.toggle('function-repr-contents-collapsed');\n",
              "        };\n",
              "      }\n",
              "      </script>\n",
              "      </div>"
            ]
          },
          "metadata": {},
          "execution_count": 47
        }
      ]
    },
    {
      "cell_type": "code",
      "source": [
        "model.summary()"
      ],
      "metadata": {
        "colab": {
          "base_uri": "https://localhost:8080/",
          "height": 353
        },
        "id": "gLX0Wi7WhBEv",
        "outputId": "e77d7c10-6fb1-4733-b727-9260c76d94a2"
      },
      "execution_count": 49,
      "outputs": [
        {
          "output_type": "display_data",
          "data": {
            "text/plain": [
              "\u001b[1mModel: \"sequential_1\"\u001b[0m\n"
            ],
            "text/html": [
              "<pre style=\"white-space:pre;overflow-x:auto;line-height:normal;font-family:Menlo,'DejaVu Sans Mono',consolas,'Courier New',monospace\"><span style=\"font-weight: bold\">Model: \"sequential_1\"</span>\n",
              "</pre>\n"
            ]
          },
          "metadata": {}
        },
        {
          "output_type": "display_data",
          "data": {
            "text/plain": [
              "┏━━━━━━━━━━━━━━━━━━━━━━━━━━━━━━━━━━━━━━┳━━━━━━━━━━━━━━━━━━━━━━━━━━━━━┳━━━━━━━━━━━━━━━━━┓\n",
              "┃\u001b[1m \u001b[0m\u001b[1mLayer (type)                        \u001b[0m\u001b[1m \u001b[0m┃\u001b[1m \u001b[0m\u001b[1mOutput Shape               \u001b[0m\u001b[1m \u001b[0m┃\u001b[1m \u001b[0m\u001b[1m        Param #\u001b[0m\u001b[1m \u001b[0m┃\n",
              "┡━━━━━━━━━━━━━━━━━━━━━━━━━━━━━━━━━━━━━━╇━━━━━━━━━━━━━━━━━━━━━━━━━━━━━╇━━━━━━━━━━━━━━━━━┩\n",
              "│ dense_4 (\u001b[38;5;33mDense\u001b[0m)                      │ (\u001b[38;5;45mNone\u001b[0m, \u001b[38;5;34m256\u001b[0m)                 │         \u001b[38;5;34m200,960\u001b[0m │\n",
              "├──────────────────────────────────────┼─────────────────────────────┼─────────────────┤\n",
              "│ dropout (\u001b[38;5;33mDropout\u001b[0m)                    │ (\u001b[38;5;45mNone\u001b[0m, \u001b[38;5;34m256\u001b[0m)                 │               \u001b[38;5;34m0\u001b[0m │\n",
              "├──────────────────────────────────────┼─────────────────────────────┼─────────────────┤\n",
              "│ dense_5 (\u001b[38;5;33mDense\u001b[0m)                      │ (\u001b[38;5;45mNone\u001b[0m, \u001b[38;5;34m256\u001b[0m)                 │          \u001b[38;5;34m65,792\u001b[0m │\n",
              "├──────────────────────────────────────┼─────────────────────────────┼─────────────────┤\n",
              "│ dropout_1 (\u001b[38;5;33mDropout\u001b[0m)                  │ (\u001b[38;5;45mNone\u001b[0m, \u001b[38;5;34m256\u001b[0m)                 │               \u001b[38;5;34m0\u001b[0m │\n",
              "├──────────────────────────────────────┼─────────────────────────────┼─────────────────┤\n",
              "│ dense_6 (\u001b[38;5;33mDense\u001b[0m)                      │ (\u001b[38;5;45mNone\u001b[0m, \u001b[38;5;34m256\u001b[0m)                 │          \u001b[38;5;34m65,792\u001b[0m │\n",
              "├──────────────────────────────────────┼─────────────────────────────┼─────────────────┤\n",
              "│ dropout_2 (\u001b[38;5;33mDropout\u001b[0m)                  │ (\u001b[38;5;45mNone\u001b[0m, \u001b[38;5;34m256\u001b[0m)                 │               \u001b[38;5;34m0\u001b[0m │\n",
              "├──────────────────────────────────────┼─────────────────────────────┼─────────────────┤\n",
              "│ dense_7 (\u001b[38;5;33mDense\u001b[0m)                      │ (\u001b[38;5;45mNone\u001b[0m, \u001b[38;5;34m10\u001b[0m)                  │           \u001b[38;5;34m2,570\u001b[0m │\n",
              "└──────────────────────────────────────┴─────────────────────────────┴─────────────────┘\n"
            ],
            "text/html": [
              "<pre style=\"white-space:pre;overflow-x:auto;line-height:normal;font-family:Menlo,'DejaVu Sans Mono',consolas,'Courier New',monospace\">┏━━━━━━━━━━━━━━━━━━━━━━━━━━━━━━━━━━━━━━┳━━━━━━━━━━━━━━━━━━━━━━━━━━━━━┳━━━━━━━━━━━━━━━━━┓\n",
              "┃<span style=\"font-weight: bold\"> Layer (type)                         </span>┃<span style=\"font-weight: bold\"> Output Shape                </span>┃<span style=\"font-weight: bold\">         Param # </span>┃\n",
              "┡━━━━━━━━━━━━━━━━━━━━━━━━━━━━━━━━━━━━━━╇━━━━━━━━━━━━━━━━━━━━━━━━━━━━━╇━━━━━━━━━━━━━━━━━┩\n",
              "│ dense_4 (<span style=\"color: #0087ff; text-decoration-color: #0087ff\">Dense</span>)                      │ (<span style=\"color: #00d7ff; text-decoration-color: #00d7ff\">None</span>, <span style=\"color: #00af00; text-decoration-color: #00af00\">256</span>)                 │         <span style=\"color: #00af00; text-decoration-color: #00af00\">200,960</span> │\n",
              "├──────────────────────────────────────┼─────────────────────────────┼─────────────────┤\n",
              "│ dropout (<span style=\"color: #0087ff; text-decoration-color: #0087ff\">Dropout</span>)                    │ (<span style=\"color: #00d7ff; text-decoration-color: #00d7ff\">None</span>, <span style=\"color: #00af00; text-decoration-color: #00af00\">256</span>)                 │               <span style=\"color: #00af00; text-decoration-color: #00af00\">0</span> │\n",
              "├──────────────────────────────────────┼─────────────────────────────┼─────────────────┤\n",
              "│ dense_5 (<span style=\"color: #0087ff; text-decoration-color: #0087ff\">Dense</span>)                      │ (<span style=\"color: #00d7ff; text-decoration-color: #00d7ff\">None</span>, <span style=\"color: #00af00; text-decoration-color: #00af00\">256</span>)                 │          <span style=\"color: #00af00; text-decoration-color: #00af00\">65,792</span> │\n",
              "├──────────────────────────────────────┼─────────────────────────────┼─────────────────┤\n",
              "│ dropout_1 (<span style=\"color: #0087ff; text-decoration-color: #0087ff\">Dropout</span>)                  │ (<span style=\"color: #00d7ff; text-decoration-color: #00d7ff\">None</span>, <span style=\"color: #00af00; text-decoration-color: #00af00\">256</span>)                 │               <span style=\"color: #00af00; text-decoration-color: #00af00\">0</span> │\n",
              "├──────────────────────────────────────┼─────────────────────────────┼─────────────────┤\n",
              "│ dense_6 (<span style=\"color: #0087ff; text-decoration-color: #0087ff\">Dense</span>)                      │ (<span style=\"color: #00d7ff; text-decoration-color: #00d7ff\">None</span>, <span style=\"color: #00af00; text-decoration-color: #00af00\">256</span>)                 │          <span style=\"color: #00af00; text-decoration-color: #00af00\">65,792</span> │\n",
              "├──────────────────────────────────────┼─────────────────────────────┼─────────────────┤\n",
              "│ dropout_2 (<span style=\"color: #0087ff; text-decoration-color: #0087ff\">Dropout</span>)                  │ (<span style=\"color: #00d7ff; text-decoration-color: #00d7ff\">None</span>, <span style=\"color: #00af00; text-decoration-color: #00af00\">256</span>)                 │               <span style=\"color: #00af00; text-decoration-color: #00af00\">0</span> │\n",
              "├──────────────────────────────────────┼─────────────────────────────┼─────────────────┤\n",
              "│ dense_7 (<span style=\"color: #0087ff; text-decoration-color: #0087ff\">Dense</span>)                      │ (<span style=\"color: #00d7ff; text-decoration-color: #00d7ff\">None</span>, <span style=\"color: #00af00; text-decoration-color: #00af00\">10</span>)                  │           <span style=\"color: #00af00; text-decoration-color: #00af00\">2,570</span> │\n",
              "└──────────────────────────────────────┴─────────────────────────────┴─────────────────┘\n",
              "</pre>\n"
            ]
          },
          "metadata": {}
        },
        {
          "output_type": "display_data",
          "data": {
            "text/plain": [
              "\u001b[1m Total params: \u001b[0m\u001b[38;5;34m335,114\u001b[0m (1.28 MB)\n"
            ],
            "text/html": [
              "<pre style=\"white-space:pre;overflow-x:auto;line-height:normal;font-family:Menlo,'DejaVu Sans Mono',consolas,'Courier New',monospace\"><span style=\"font-weight: bold\"> Total params: </span><span style=\"color: #00af00; text-decoration-color: #00af00\">335,114</span> (1.28 MB)\n",
              "</pre>\n"
            ]
          },
          "metadata": {}
        },
        {
          "output_type": "display_data",
          "data": {
            "text/plain": [
              "\u001b[1m Trainable params: \u001b[0m\u001b[38;5;34m335,114\u001b[0m (1.28 MB)\n"
            ],
            "text/html": [
              "<pre style=\"white-space:pre;overflow-x:auto;line-height:normal;font-family:Menlo,'DejaVu Sans Mono',consolas,'Courier New',monospace\"><span style=\"font-weight: bold\"> Trainable params: </span><span style=\"color: #00af00; text-decoration-color: #00af00\">335,114</span> (1.28 MB)\n",
              "</pre>\n"
            ]
          },
          "metadata": {}
        },
        {
          "output_type": "display_data",
          "data": {
            "text/plain": [
              "\u001b[1m Non-trainable params: \u001b[0m\u001b[38;5;34m0\u001b[0m (0.00 B)\n"
            ],
            "text/html": [
              "<pre style=\"white-space:pre;overflow-x:auto;line-height:normal;font-family:Menlo,'DejaVu Sans Mono',consolas,'Courier New',monospace\"><span style=\"font-weight: bold\"> Non-trainable params: </span><span style=\"color: #00af00; text-decoration-color: #00af00\">0</span> (0.00 B)\n",
              "</pre>\n"
            ]
          },
          "metadata": {}
        }
      ]
    },
    {
      "cell_type": "code",
      "source": [
        "model.compile(optimizer='Adam',loss='categorical_crossentropy',metrics=['accuracy'])"
      ],
      "metadata": {
        "id": "ElGhovQVhStx"
      },
      "execution_count": 50,
      "outputs": []
    },
    {
      "cell_type": "code",
      "source": [
        "hist=model.fit(x_train,y_train_ohe,batch_size=128,epochs=100,validation_data=(x_test,y_test_ohe))"
      ],
      "metadata": {
        "colab": {
          "base_uri": "https://localhost:8080/"
        },
        "id": "1XMJyRZShVnw",
        "outputId": "50c6dd0d-fb3f-4a03-fc3e-cbc18b30f76c"
      },
      "execution_count": 51,
      "outputs": [
        {
          "output_type": "stream",
          "name": "stdout",
          "text": [
            "Epoch 1/100\n",
            "\u001b[1m263/263\u001b[0m \u001b[32m━━━━━━━━━━━━━━━━━━━━\u001b[0m\u001b[37m\u001b[0m \u001b[1m6s\u001b[0m 18ms/step - accuracy: 0.6161 - loss: 12.2877 - val_accuracy: 0.8917 - val_loss: 0.3985\n",
            "Epoch 2/100\n",
            "\u001b[1m263/263\u001b[0m \u001b[32m━━━━━━━━━━━━━━━━━━━━\u001b[0m\u001b[37m\u001b[0m \u001b[1m4s\u001b[0m 13ms/step - accuracy: 0.8397 - loss: 0.6472 - val_accuracy: 0.9210 - val_loss: 0.2871\n",
            "Epoch 3/100\n",
            "\u001b[1m263/263\u001b[0m \u001b[32m━━━━━━━━━━━━━━━━━━━━\u001b[0m\u001b[37m\u001b[0m \u001b[1m3s\u001b[0m 12ms/step - accuracy: 0.8832 - loss: 0.4271 - val_accuracy: 0.9331 - val_loss: 0.2375\n",
            "Epoch 4/100\n",
            "\u001b[1m263/263\u001b[0m \u001b[32m━━━━━━━━━━━━━━━━━━━━\u001b[0m\u001b[37m\u001b[0m \u001b[1m6s\u001b[0m 15ms/step - accuracy: 0.9072 - loss: 0.3295 - val_accuracy: 0.9449 - val_loss: 0.2078\n",
            "Epoch 5/100\n",
            "\u001b[1m263/263\u001b[0m \u001b[32m━━━━━━━━━━━━━━━━━━━━\u001b[0m\u001b[37m\u001b[0m \u001b[1m4s\u001b[0m 13ms/step - accuracy: 0.9264 - loss: 0.2568 - val_accuracy: 0.9462 - val_loss: 0.1984\n",
            "Epoch 6/100\n",
            "\u001b[1m263/263\u001b[0m \u001b[32m━━━━━━━━━━━━━━━━━━━━\u001b[0m\u001b[37m\u001b[0m \u001b[1m5s\u001b[0m 12ms/step - accuracy: 0.9328 - loss: 0.2367 - val_accuracy: 0.9530 - val_loss: 0.1765\n",
            "Epoch 7/100\n",
            "\u001b[1m263/263\u001b[0m \u001b[32m━━━━━━━━━━━━━━━━━━━━\u001b[0m\u001b[37m\u001b[0m \u001b[1m4s\u001b[0m 15ms/step - accuracy: 0.9414 - loss: 0.2056 - val_accuracy: 0.9557 - val_loss: 0.1610\n",
            "Epoch 8/100\n",
            "\u001b[1m263/263\u001b[0m \u001b[32m━━━━━━━━━━━━━━━━━━━━\u001b[0m\u001b[37m\u001b[0m \u001b[1m4s\u001b[0m 13ms/step - accuracy: 0.9451 - loss: 0.1903 - val_accuracy: 0.9570 - val_loss: 0.1558\n",
            "Epoch 9/100\n",
            "\u001b[1m263/263\u001b[0m \u001b[32m━━━━━━━━━━━━━━━━━━━━\u001b[0m\u001b[37m\u001b[0m \u001b[1m3s\u001b[0m 12ms/step - accuracy: 0.9480 - loss: 0.1770 - val_accuracy: 0.9564 - val_loss: 0.1610\n",
            "Epoch 10/100\n",
            "\u001b[1m263/263\u001b[0m \u001b[32m━━━━━━━━━━━━━━━━━━━━\u001b[0m\u001b[37m\u001b[0m \u001b[1m3s\u001b[0m 12ms/step - accuracy: 0.9521 - loss: 0.1648 - val_accuracy: 0.9600 - val_loss: 0.1474\n",
            "Epoch 11/100\n",
            "\u001b[1m263/263\u001b[0m \u001b[32m━━━━━━━━━━━━━━━━━━━━\u001b[0m\u001b[37m\u001b[0m \u001b[1m6s\u001b[0m 17ms/step - accuracy: 0.9571 - loss: 0.1450 - val_accuracy: 0.9600 - val_loss: 0.1416\n",
            "Epoch 12/100\n",
            "\u001b[1m263/263\u001b[0m \u001b[32m━━━━━━━━━━━━━━━━━━━━\u001b[0m\u001b[37m\u001b[0m \u001b[1m3s\u001b[0m 12ms/step - accuracy: 0.9606 - loss: 0.1361 - val_accuracy: 0.9579 - val_loss: 0.1442\n",
            "Epoch 13/100\n",
            "\u001b[1m263/263\u001b[0m \u001b[32m━━━━━━━━━━━━━━━━━━━━\u001b[0m\u001b[37m\u001b[0m \u001b[1m3s\u001b[0m 12ms/step - accuracy: 0.9582 - loss: 0.1445 - val_accuracy: 0.9612 - val_loss: 0.1398\n",
            "Epoch 14/100\n",
            "\u001b[1m263/263\u001b[0m \u001b[32m━━━━━━━━━━━━━━━━━━━━\u001b[0m\u001b[37m\u001b[0m \u001b[1m7s\u001b[0m 21ms/step - accuracy: 0.9633 - loss: 0.1267 - val_accuracy: 0.9629 - val_loss: 0.1310\n",
            "Epoch 15/100\n",
            "\u001b[1m263/263\u001b[0m \u001b[32m━━━━━━━━━━━━━━━━━━━━\u001b[0m\u001b[37m\u001b[0m \u001b[1m8s\u001b[0m 12ms/step - accuracy: 0.9626 - loss: 0.1306 - val_accuracy: 0.9642 - val_loss: 0.1413\n",
            "Epoch 16/100\n",
            "\u001b[1m263/263\u001b[0m \u001b[32m━━━━━━━━━━━━━━━━━━━━\u001b[0m\u001b[37m\u001b[0m \u001b[1m7s\u001b[0m 19ms/step - accuracy: 0.9639 - loss: 0.1257 - val_accuracy: 0.9658 - val_loss: 0.1278\n",
            "Epoch 17/100\n",
            "\u001b[1m263/263\u001b[0m \u001b[32m━━━━━━━━━━━━━━━━━━━━\u001b[0m\u001b[37m\u001b[0m \u001b[1m3s\u001b[0m 12ms/step - accuracy: 0.9668 - loss: 0.1102 - val_accuracy: 0.9640 - val_loss: 0.1347\n",
            "Epoch 18/100\n",
            "\u001b[1m263/263\u001b[0m \u001b[32m━━━━━━━━━━━━━━━━━━━━\u001b[0m\u001b[37m\u001b[0m \u001b[1m5s\u001b[0m 12ms/step - accuracy: 0.9679 - loss: 0.1099 - val_accuracy: 0.9685 - val_loss: 0.1310\n",
            "Epoch 19/100\n",
            "\u001b[1m263/263\u001b[0m \u001b[32m━━━━━━━━━━━━━━━━━━━━\u001b[0m\u001b[37m\u001b[0m \u001b[1m7s\u001b[0m 19ms/step - accuracy: 0.9701 - loss: 0.1048 - val_accuracy: 0.9648 - val_loss: 0.1381\n",
            "Epoch 20/100\n",
            "\u001b[1m263/263\u001b[0m \u001b[32m━━━━━━━━━━━━━━━━━━━━\u001b[0m\u001b[37m\u001b[0m \u001b[1m3s\u001b[0m 12ms/step - accuracy: 0.9697 - loss: 0.1049 - val_accuracy: 0.9671 - val_loss: 0.1426\n",
            "Epoch 21/100\n",
            "\u001b[1m263/263\u001b[0m \u001b[32m━━━━━━━━━━━━━━━━━━━━\u001b[0m\u001b[37m\u001b[0m \u001b[1m3s\u001b[0m 12ms/step - accuracy: 0.9721 - loss: 0.0979 - val_accuracy: 0.9670 - val_loss: 0.1475\n",
            "Epoch 22/100\n",
            "\u001b[1m263/263\u001b[0m \u001b[32m━━━━━━━━━━━━━━━━━━━━\u001b[0m\u001b[37m\u001b[0m \u001b[1m3s\u001b[0m 12ms/step - accuracy: 0.9712 - loss: 0.0989 - val_accuracy: 0.9670 - val_loss: 0.1323\n",
            "Epoch 23/100\n",
            "\u001b[1m263/263\u001b[0m \u001b[32m━━━━━━━━━━━━━━━━━━━━\u001b[0m\u001b[37m\u001b[0m \u001b[1m5s\u001b[0m 14ms/step - accuracy: 0.9714 - loss: 0.0990 - val_accuracy: 0.9650 - val_loss: 0.1591\n",
            "Epoch 24/100\n",
            "\u001b[1m263/263\u001b[0m \u001b[32m━━━━━━━━━━━━━━━━━━━━\u001b[0m\u001b[37m\u001b[0m \u001b[1m5s\u001b[0m 12ms/step - accuracy: 0.9738 - loss: 0.0972 - val_accuracy: 0.9692 - val_loss: 0.1280\n",
            "Epoch 25/100\n",
            "\u001b[1m263/263\u001b[0m \u001b[32m━━━━━━━━━━━━━━━━━━━━\u001b[0m\u001b[37m\u001b[0m \u001b[1m4s\u001b[0m 13ms/step - accuracy: 0.9729 - loss: 0.0986 - val_accuracy: 0.9717 - val_loss: 0.1313\n",
            "Epoch 26/100\n",
            "\u001b[1m263/263\u001b[0m \u001b[32m━━━━━━━━━━━━━━━━━━━━\u001b[0m\u001b[37m\u001b[0m \u001b[1m5s\u001b[0m 18ms/step - accuracy: 0.9741 - loss: 0.0896 - val_accuracy: 0.9669 - val_loss: 0.1467\n",
            "Epoch 27/100\n",
            "\u001b[1m263/263\u001b[0m \u001b[32m━━━━━━━━━━━━━━━━━━━━\u001b[0m\u001b[37m\u001b[0m \u001b[1m3s\u001b[0m 12ms/step - accuracy: 0.9695 - loss: 0.1104 - val_accuracy: 0.9701 - val_loss: 0.1543\n",
            "Epoch 28/100\n",
            "\u001b[1m263/263\u001b[0m \u001b[32m━━━━━━━━━━━━━━━━━━━━\u001b[0m\u001b[37m\u001b[0m \u001b[1m5s\u001b[0m 12ms/step - accuracy: 0.9758 - loss: 0.0875 - val_accuracy: 0.9715 - val_loss: 0.1377\n",
            "Epoch 29/100\n",
            "\u001b[1m263/263\u001b[0m \u001b[32m━━━━━━━━━━━━━━━━━━━━\u001b[0m\u001b[37m\u001b[0m \u001b[1m6s\u001b[0m 16ms/step - accuracy: 0.9783 - loss: 0.0784 - val_accuracy: 0.9718 - val_loss: 0.1320\n",
            "Epoch 30/100\n",
            "\u001b[1m263/263\u001b[0m \u001b[32m━━━━━━━━━━━━━━━━━━━━\u001b[0m\u001b[37m\u001b[0m \u001b[1m3s\u001b[0m 12ms/step - accuracy: 0.9795 - loss: 0.0760 - val_accuracy: 0.9701 - val_loss: 0.1384\n",
            "Epoch 31/100\n",
            "\u001b[1m263/263\u001b[0m \u001b[32m━━━━━━━━━━━━━━━━━━━━\u001b[0m\u001b[37m\u001b[0m \u001b[1m5s\u001b[0m 12ms/step - accuracy: 0.9787 - loss: 0.0798 - val_accuracy: 0.9676 - val_loss: 0.1372\n",
            "Epoch 32/100\n",
            "\u001b[1m263/263\u001b[0m \u001b[32m━━━━━━━━━━━━━━━━━━━━\u001b[0m\u001b[37m\u001b[0m \u001b[1m5s\u001b[0m 20ms/step - accuracy: 0.9792 - loss: 0.0783 - val_accuracy: 0.9682 - val_loss: 0.1491\n",
            "Epoch 33/100\n",
            "\u001b[1m263/263\u001b[0m \u001b[32m━━━━━━━━━━━━━━━━━━━━\u001b[0m\u001b[37m\u001b[0m \u001b[1m3s\u001b[0m 12ms/step - accuracy: 0.9775 - loss: 0.0831 - val_accuracy: 0.9719 - val_loss: 0.1478\n",
            "Epoch 34/100\n",
            "\u001b[1m263/263\u001b[0m \u001b[32m━━━━━━━━━━━━━━━━━━━━\u001b[0m\u001b[37m\u001b[0m \u001b[1m5s\u001b[0m 12ms/step - accuracy: 0.9794 - loss: 0.0722 - val_accuracy: 0.9693 - val_loss: 0.1450\n",
            "Epoch 35/100\n",
            "\u001b[1m263/263\u001b[0m \u001b[32m━━━━━━━━━━━━━━━━━━━━\u001b[0m\u001b[37m\u001b[0m \u001b[1m4s\u001b[0m 16ms/step - accuracy: 0.9758 - loss: 0.0888 - val_accuracy: 0.9714 - val_loss: 0.1353\n",
            "Epoch 36/100\n",
            "\u001b[1m263/263\u001b[0m \u001b[32m━━━━━━━━━━━━━━━━━━━━\u001b[0m\u001b[37m\u001b[0m \u001b[1m4s\u001b[0m 15ms/step - accuracy: 0.9774 - loss: 0.0821 - val_accuracy: 0.9704 - val_loss: 0.1589\n",
            "Epoch 37/100\n",
            "\u001b[1m263/263\u001b[0m \u001b[32m━━━━━━━━━━━━━━━━━━━━\u001b[0m\u001b[37m\u001b[0m \u001b[1m4s\u001b[0m 12ms/step - accuracy: 0.9806 - loss: 0.0703 - val_accuracy: 0.9713 - val_loss: 0.1441\n",
            "Epoch 38/100\n",
            "\u001b[1m263/263\u001b[0m \u001b[32m━━━━━━━━━━━━━━━━━━━━\u001b[0m\u001b[37m\u001b[0m \u001b[1m3s\u001b[0m 12ms/step - accuracy: 0.9778 - loss: 0.0906 - val_accuracy: 0.9707 - val_loss: 0.1491\n",
            "Epoch 39/100\n",
            "\u001b[1m263/263\u001b[0m \u001b[32m━━━━━━━━━━━━━━━━━━━━\u001b[0m\u001b[37m\u001b[0m \u001b[1m5s\u001b[0m 19ms/step - accuracy: 0.9816 - loss: 0.0670 - val_accuracy: 0.9706 - val_loss: 0.1551\n",
            "Epoch 40/100\n",
            "\u001b[1m263/263\u001b[0m \u001b[32m━━━━━━━━━━━━━━━━━━━━\u001b[0m\u001b[37m\u001b[0m \u001b[1m3s\u001b[0m 12ms/step - accuracy: 0.9832 - loss: 0.0689 - val_accuracy: 0.9740 - val_loss: 0.1546\n",
            "Epoch 41/100\n",
            "\u001b[1m263/263\u001b[0m \u001b[32m━━━━━━━━━━━━━━━━━━━━\u001b[0m\u001b[37m\u001b[0m \u001b[1m5s\u001b[0m 12ms/step - accuracy: 0.9826 - loss: 0.0662 - val_accuracy: 0.9675 - val_loss: 0.1894\n",
            "Epoch 42/100\n",
            "\u001b[1m263/263\u001b[0m \u001b[32m━━━━━━━━━━━━━━━━━━━━\u001b[0m\u001b[37m\u001b[0m \u001b[1m7s\u001b[0m 20ms/step - accuracy: 0.9819 - loss: 0.0675 - val_accuracy: 0.9718 - val_loss: 0.1579\n",
            "Epoch 43/100\n",
            "\u001b[1m263/263\u001b[0m \u001b[32m━━━━━━━━━━━━━━━━━━━━\u001b[0m\u001b[37m\u001b[0m \u001b[1m8s\u001b[0m 12ms/step - accuracy: 0.9820 - loss: 0.0695 - val_accuracy: 0.9721 - val_loss: 0.1658\n",
            "Epoch 44/100\n",
            "\u001b[1m263/263\u001b[0m \u001b[32m━━━━━━━━━━━━━━━━━━━━\u001b[0m\u001b[37m\u001b[0m \u001b[1m4s\u001b[0m 15ms/step - accuracy: 0.9815 - loss: 0.0707 - val_accuracy: 0.9731 - val_loss: 0.1553\n",
            "Epoch 45/100\n",
            "\u001b[1m263/263\u001b[0m \u001b[32m━━━━━━━━━━━━━━━━━━━━\u001b[0m\u001b[37m\u001b[0m \u001b[1m4s\u001b[0m 16ms/step - accuracy: 0.9854 - loss: 0.0556 - val_accuracy: 0.9723 - val_loss: 0.1738\n",
            "Epoch 46/100\n",
            "\u001b[1m263/263\u001b[0m \u001b[32m━━━━━━━━━━━━━━━━━━━━\u001b[0m\u001b[37m\u001b[0m \u001b[1m4s\u001b[0m 12ms/step - accuracy: 0.9824 - loss: 0.0704 - val_accuracy: 0.9725 - val_loss: 0.1499\n",
            "Epoch 47/100\n",
            "\u001b[1m263/263\u001b[0m \u001b[32m━━━━━━━━━━━━━━━━━━━━\u001b[0m\u001b[37m\u001b[0m \u001b[1m3s\u001b[0m 12ms/step - accuracy: 0.9822 - loss: 0.0661 - val_accuracy: 0.9744 - val_loss: 0.1533\n",
            "Epoch 48/100\n",
            "\u001b[1m263/263\u001b[0m \u001b[32m━━━━━━━━━━━━━━━━━━━━\u001b[0m\u001b[37m\u001b[0m \u001b[1m5s\u001b[0m 18ms/step - accuracy: 0.9844 - loss: 0.0686 - val_accuracy: 0.9769 - val_loss: 0.1466\n",
            "Epoch 49/100\n",
            "\u001b[1m263/263\u001b[0m \u001b[32m━━━━━━━━━━━━━━━━━━━━\u001b[0m\u001b[37m\u001b[0m \u001b[1m4s\u001b[0m 14ms/step - accuracy: 0.9834 - loss: 0.0678 - val_accuracy: 0.9723 - val_loss: 0.1750\n",
            "Epoch 50/100\n",
            "\u001b[1m263/263\u001b[0m \u001b[32m━━━━━━━━━━━━━━━━━━━━\u001b[0m\u001b[37m\u001b[0m \u001b[1m3s\u001b[0m 12ms/step - accuracy: 0.9830 - loss: 0.0652 - val_accuracy: 0.9750 - val_loss: 0.1476\n",
            "Epoch 51/100\n",
            "\u001b[1m263/263\u001b[0m \u001b[32m━━━━━━━━━━━━━━━━━━━━\u001b[0m\u001b[37m\u001b[0m \u001b[1m6s\u001b[0m 16ms/step - accuracy: 0.9849 - loss: 0.0547 - val_accuracy: 0.9717 - val_loss: 0.1825\n",
            "Epoch 52/100\n",
            "\u001b[1m263/263\u001b[0m \u001b[32m━━━━━━━━━━━━━━━━━━━━\u001b[0m\u001b[37m\u001b[0m \u001b[1m4s\u001b[0m 13ms/step - accuracy: 0.9827 - loss: 0.0711 - val_accuracy: 0.9744 - val_loss: 0.1646\n",
            "Epoch 53/100\n",
            "\u001b[1m263/263\u001b[0m \u001b[32m━━━━━━━━━━━━━━━━━━━━\u001b[0m\u001b[37m\u001b[0m \u001b[1m5s\u001b[0m 12ms/step - accuracy: 0.9862 - loss: 0.0542 - val_accuracy: 0.9740 - val_loss: 0.1637\n",
            "Epoch 54/100\n",
            "\u001b[1m263/263\u001b[0m \u001b[32m━━━━━━━━━━━━━━━━━━━━\u001b[0m\u001b[37m\u001b[0m \u001b[1m7s\u001b[0m 19ms/step - accuracy: 0.9859 - loss: 0.0543 - val_accuracy: 0.9729 - val_loss: 0.1742\n",
            "Epoch 55/100\n",
            "\u001b[1m263/263\u001b[0m \u001b[32m━━━━━━━━━━━━━━━━━━━━\u001b[0m\u001b[37m\u001b[0m \u001b[1m4s\u001b[0m 13ms/step - accuracy: 0.9848 - loss: 0.0569 - val_accuracy: 0.9743 - val_loss: 0.1531\n",
            "Epoch 56/100\n",
            "\u001b[1m263/263\u001b[0m \u001b[32m━━━━━━━━━━━━━━━━━━━━\u001b[0m\u001b[37m\u001b[0m \u001b[1m3s\u001b[0m 12ms/step - accuracy: 0.9853 - loss: 0.0626 - val_accuracy: 0.9724 - val_loss: 0.1731\n",
            "Epoch 57/100\n",
            "\u001b[1m263/263\u001b[0m \u001b[32m━━━━━━━━━━━━━━━━━━━━\u001b[0m\u001b[37m\u001b[0m \u001b[1m3s\u001b[0m 13ms/step - accuracy: 0.9857 - loss: 0.0531 - val_accuracy: 0.9727 - val_loss: 0.1789\n",
            "Epoch 58/100\n",
            "\u001b[1m263/263\u001b[0m \u001b[32m━━━━━━━━━━━━━━━━━━━━\u001b[0m\u001b[37m\u001b[0m \u001b[1m5s\u001b[0m 20ms/step - accuracy: 0.9860 - loss: 0.0561 - val_accuracy: 0.9758 - val_loss: 0.1524\n",
            "Epoch 59/100\n",
            "\u001b[1m263/263\u001b[0m \u001b[32m━━━━━━━━━━━━━━━━━━━━\u001b[0m\u001b[37m\u001b[0m \u001b[1m8s\u001b[0m 12ms/step - accuracy: 0.9866 - loss: 0.0533 - val_accuracy: 0.9738 - val_loss: 0.2018\n",
            "Epoch 60/100\n",
            "\u001b[1m263/263\u001b[0m \u001b[32m━━━━━━━━━━━━━━━━━━━━\u001b[0m\u001b[37m\u001b[0m \u001b[1m7s\u001b[0m 19ms/step - accuracy: 0.9862 - loss: 0.0557 - val_accuracy: 0.9730 - val_loss: 0.2084\n",
            "Epoch 61/100\n",
            "\u001b[1m263/263\u001b[0m \u001b[32m━━━━━━━━━━━━━━━━━━━━\u001b[0m\u001b[37m\u001b[0m \u001b[1m3s\u001b[0m 13ms/step - accuracy: 0.9862 - loss: 0.0543 - val_accuracy: 0.9730 - val_loss: 0.2166\n",
            "Epoch 62/100\n",
            "\u001b[1m263/263\u001b[0m \u001b[32m━━━━━━━━━━━━━━━━━━━━\u001b[0m\u001b[37m\u001b[0m \u001b[1m3s\u001b[0m 13ms/step - accuracy: 0.9850 - loss: 0.0614 - val_accuracy: 0.9720 - val_loss: 0.2115\n",
            "Epoch 63/100\n",
            "\u001b[1m263/263\u001b[0m \u001b[32m━━━━━━━━━━━━━━━━━━━━\u001b[0m\u001b[37m\u001b[0m \u001b[1m7s\u001b[0m 18ms/step - accuracy: 0.9857 - loss: 0.0541 - val_accuracy: 0.9718 - val_loss: 0.2081\n",
            "Epoch 64/100\n",
            "\u001b[1m263/263\u001b[0m \u001b[32m━━━━━━━━━━━━━━━━━━━━\u001b[0m\u001b[37m\u001b[0m \u001b[1m4s\u001b[0m 13ms/step - accuracy: 0.9858 - loss: 0.0548 - val_accuracy: 0.9699 - val_loss: 0.2093\n",
            "Epoch 65/100\n",
            "\u001b[1m263/263\u001b[0m \u001b[32m━━━━━━━━━━━━━━━━━━━━\u001b[0m\u001b[37m\u001b[0m \u001b[1m3s\u001b[0m 13ms/step - accuracy: 0.9846 - loss: 0.0691 - val_accuracy: 0.9751 - val_loss: 0.1960\n",
            "Epoch 66/100\n",
            "\u001b[1m263/263\u001b[0m \u001b[32m━━━━━━━━━━━━━━━━━━━━\u001b[0m\u001b[37m\u001b[0m \u001b[1m6s\u001b[0m 17ms/step - accuracy: 0.9859 - loss: 0.0609 - val_accuracy: 0.9739 - val_loss: 0.2060\n",
            "Epoch 67/100\n",
            "\u001b[1m263/263\u001b[0m \u001b[32m━━━━━━━━━━━━━━━━━━━━\u001b[0m\u001b[37m\u001b[0m \u001b[1m4s\u001b[0m 15ms/step - accuracy: 0.9869 - loss: 0.0615 - val_accuracy: 0.9739 - val_loss: 0.1889\n",
            "Epoch 68/100\n",
            "\u001b[1m263/263\u001b[0m \u001b[32m━━━━━━━━━━━━━━━━━━━━\u001b[0m\u001b[37m\u001b[0m \u001b[1m3s\u001b[0m 13ms/step - accuracy: 0.9877 - loss: 0.0500 - val_accuracy: 0.9768 - val_loss: 0.1815\n",
            "Epoch 69/100\n",
            "\u001b[1m263/263\u001b[0m \u001b[32m━━━━━━━━━━━━━━━━━━━━\u001b[0m\u001b[37m\u001b[0m \u001b[1m6s\u001b[0m 15ms/step - accuracy: 0.9880 - loss: 0.0503 - val_accuracy: 0.9719 - val_loss: 0.1954\n",
            "Epoch 70/100\n",
            "\u001b[1m263/263\u001b[0m \u001b[32m━━━━━━━━━━━━━━━━━━━━\u001b[0m\u001b[37m\u001b[0m \u001b[1m5s\u001b[0m 13ms/step - accuracy: 0.9862 - loss: 0.0613 - val_accuracy: 0.9755 - val_loss: 0.2178\n",
            "Epoch 71/100\n",
            "\u001b[1m263/263\u001b[0m \u001b[32m━━━━━━━━━━━━━━━━━━━━\u001b[0m\u001b[37m\u001b[0m \u001b[1m3s\u001b[0m 12ms/step - accuracy: 0.9855 - loss: 0.0597 - val_accuracy: 0.9743 - val_loss: 0.1841\n",
            "Epoch 72/100\n",
            "\u001b[1m263/263\u001b[0m \u001b[32m━━━━━━━━━━━━━━━━━━━━\u001b[0m\u001b[37m\u001b[0m \u001b[1m6s\u001b[0m 16ms/step - accuracy: 0.9884 - loss: 0.0477 - val_accuracy: 0.9736 - val_loss: 0.2146\n",
            "Epoch 73/100\n",
            "\u001b[1m263/263\u001b[0m \u001b[32m━━━━━━━━━━━━━━━━━━━━\u001b[0m\u001b[37m\u001b[0m \u001b[1m4s\u001b[0m 13ms/step - accuracy: 0.9864 - loss: 0.0527 - val_accuracy: 0.9745 - val_loss: 0.1961\n",
            "Epoch 74/100\n",
            "\u001b[1m263/263\u001b[0m \u001b[32m━━━━━━━━━━━━━━━━━━━━\u001b[0m\u001b[37m\u001b[0m \u001b[1m5s\u001b[0m 12ms/step - accuracy: 0.9886 - loss: 0.0494 - val_accuracy: 0.9740 - val_loss: 0.1950\n",
            "Epoch 75/100\n",
            "\u001b[1m263/263\u001b[0m \u001b[32m━━━━━━━━━━━━━━━━━━━━\u001b[0m\u001b[37m\u001b[0m \u001b[1m4s\u001b[0m 16ms/step - accuracy: 0.9884 - loss: 0.0463 - val_accuracy: 0.9740 - val_loss: 0.2087\n",
            "Epoch 76/100\n",
            "\u001b[1m263/263\u001b[0m \u001b[32m━━━━━━━━━━━━━━━━━━━━\u001b[0m\u001b[37m\u001b[0m \u001b[1m4s\u001b[0m 13ms/step - accuracy: 0.9860 - loss: 0.0602 - val_accuracy: 0.9726 - val_loss: 0.2402\n",
            "Epoch 77/100\n",
            "\u001b[1m263/263\u001b[0m \u001b[32m━━━━━━━━━━━━━━━━━━━━\u001b[0m\u001b[37m\u001b[0m \u001b[1m3s\u001b[0m 13ms/step - accuracy: 0.9866 - loss: 0.0612 - val_accuracy: 0.9731 - val_loss: 0.2134\n",
            "Epoch 78/100\n",
            "\u001b[1m263/263\u001b[0m \u001b[32m━━━━━━━━━━━━━━━━━━━━\u001b[0m\u001b[37m\u001b[0m \u001b[1m3s\u001b[0m 13ms/step - accuracy: 0.9859 - loss: 0.0549 - val_accuracy: 0.9758 - val_loss: 0.1932\n",
            "Epoch 79/100\n",
            "\u001b[1m263/263\u001b[0m \u001b[32m━━━━━━━━━━━━━━━━━━━━\u001b[0m\u001b[37m\u001b[0m \u001b[1m6s\u001b[0m 17ms/step - accuracy: 0.9882 - loss: 0.0455 - val_accuracy: 0.9758 - val_loss: 0.2127\n",
            "Epoch 80/100\n",
            "\u001b[1m263/263\u001b[0m \u001b[32m━━━━━━━━━━━━━━━━━━━━\u001b[0m\u001b[37m\u001b[0m \u001b[1m3s\u001b[0m 12ms/step - accuracy: 0.9884 - loss: 0.0540 - val_accuracy: 0.9725 - val_loss: 0.2453\n",
            "Epoch 81/100\n",
            "\u001b[1m263/263\u001b[0m \u001b[32m━━━━━━━━━━━━━━━━━━━━\u001b[0m\u001b[37m\u001b[0m \u001b[1m3s\u001b[0m 12ms/step - accuracy: 0.9870 - loss: 0.0525 - val_accuracy: 0.9740 - val_loss: 0.2122\n",
            "Epoch 82/100\n",
            "\u001b[1m263/263\u001b[0m \u001b[32m━━━━━━━━━━━━━━━━━━━━\u001b[0m\u001b[37m\u001b[0m \u001b[1m5s\u001b[0m 18ms/step - accuracy: 0.9874 - loss: 0.0499 - val_accuracy: 0.9764 - val_loss: 0.2329\n",
            "Epoch 83/100\n",
            "\u001b[1m263/263\u001b[0m \u001b[32m━━━━━━━━━━━━━━━━━━━━\u001b[0m\u001b[37m\u001b[0m \u001b[1m4s\u001b[0m 14ms/step - accuracy: 0.9887 - loss: 0.0440 - val_accuracy: 0.9718 - val_loss: 0.2792\n",
            "Epoch 84/100\n",
            "\u001b[1m263/263\u001b[0m \u001b[32m━━━━━━━━━━━━━━━━━━━━\u001b[0m\u001b[37m\u001b[0m \u001b[1m3s\u001b[0m 12ms/step - accuracy: 0.9864 - loss: 0.0665 - val_accuracy: 0.9768 - val_loss: 0.2008\n",
            "Epoch 85/100\n",
            "\u001b[1m263/263\u001b[0m \u001b[32m━━━━━━━━━━━━━━━━━━━━\u001b[0m\u001b[37m\u001b[0m \u001b[1m6s\u001b[0m 15ms/step - accuracy: 0.9879 - loss: 0.0532 - val_accuracy: 0.9762 - val_loss: 0.2372\n",
            "Epoch 86/100\n",
            "\u001b[1m263/263\u001b[0m \u001b[32m━━━━━━━━━━━━━━━━━━━━\u001b[0m\u001b[37m\u001b[0m \u001b[1m5s\u001b[0m 14ms/step - accuracy: 0.9913 - loss: 0.0395 - val_accuracy: 0.9751 - val_loss: 0.2262\n",
            "Epoch 87/100\n",
            "\u001b[1m263/263\u001b[0m \u001b[32m━━━━━━━━━━━━━━━━━━━━\u001b[0m\u001b[37m\u001b[0m \u001b[1m3s\u001b[0m 13ms/step - accuracy: 0.9874 - loss: 0.0583 - val_accuracy: 0.9749 - val_loss: 0.2439\n",
            "Epoch 88/100\n",
            "\u001b[1m263/263\u001b[0m \u001b[32m━━━━━━━━━━━━━━━━━━━━\u001b[0m\u001b[37m\u001b[0m \u001b[1m6s\u001b[0m 16ms/step - accuracy: 0.9917 - loss: 0.0333 - val_accuracy: 0.9767 - val_loss: 0.2233\n",
            "Epoch 89/100\n",
            "\u001b[1m263/263\u001b[0m \u001b[32m━━━━━━━━━━━━━━━━━━━━\u001b[0m\u001b[37m\u001b[0m \u001b[1m5s\u001b[0m 14ms/step - accuracy: 0.9904 - loss: 0.0469 - val_accuracy: 0.9676 - val_loss: 0.2162\n",
            "Epoch 90/100\n",
            "\u001b[1m263/263\u001b[0m \u001b[32m━━━━━━━━━━━━━━━━━━━━\u001b[0m\u001b[37m\u001b[0m \u001b[1m3s\u001b[0m 13ms/step - accuracy: 0.9876 - loss: 0.0588 - val_accuracy: 0.9750 - val_loss: 0.1946\n",
            "Epoch 91/100\n",
            "\u001b[1m263/263\u001b[0m \u001b[32m━━━━━━━━━━━━━━━━━━━━\u001b[0m\u001b[37m\u001b[0m \u001b[1m6s\u001b[0m 16ms/step - accuracy: 0.9869 - loss: 0.0600 - val_accuracy: 0.9715 - val_loss: 0.2456\n",
            "Epoch 92/100\n",
            "\u001b[1m263/263\u001b[0m \u001b[32m━━━━━━━━━━━━━━━━━━━━\u001b[0m\u001b[37m\u001b[0m \u001b[1m4s\u001b[0m 13ms/step - accuracy: 0.9881 - loss: 0.0565 - val_accuracy: 0.9720 - val_loss: 0.2312\n",
            "Epoch 93/100\n",
            "\u001b[1m263/263\u001b[0m \u001b[32m━━━━━━━━━━━━━━━━━━━━\u001b[0m\u001b[37m\u001b[0m \u001b[1m5s\u001b[0m 12ms/step - accuracy: 0.9869 - loss: 0.0604 - val_accuracy: 0.9748 - val_loss: 0.2256\n",
            "Epoch 94/100\n",
            "\u001b[1m263/263\u001b[0m \u001b[32m━━━━━━━━━━━━━━━━━━━━\u001b[0m\u001b[37m\u001b[0m \u001b[1m7s\u001b[0m 20ms/step - accuracy: 0.9859 - loss: 0.0562 - val_accuracy: 0.9737 - val_loss: 0.2284\n",
            "Epoch 95/100\n",
            "\u001b[1m263/263\u001b[0m \u001b[32m━━━━━━━━━━━━━━━━━━━━\u001b[0m\u001b[37m\u001b[0m \u001b[1m8s\u001b[0m 12ms/step - accuracy: 0.9906 - loss: 0.0408 - val_accuracy: 0.9765 - val_loss: 0.2238\n",
            "Epoch 96/100\n",
            "\u001b[1m263/263\u001b[0m \u001b[32m━━━━━━━━━━━━━━━━━━━━\u001b[0m\u001b[37m\u001b[0m \u001b[1m4s\u001b[0m 16ms/step - accuracy: 0.9873 - loss: 0.0486 - val_accuracy: 0.9743 - val_loss: 0.2834\n",
            "Epoch 97/100\n",
            "\u001b[1m263/263\u001b[0m \u001b[32m━━━━━━━━━━━━━━━━━━━━\u001b[0m\u001b[37m\u001b[0m \u001b[1m5s\u001b[0m 17ms/step - accuracy: 0.9908 - loss: 0.0440 - val_accuracy: 0.9739 - val_loss: 0.2440\n",
            "Epoch 98/100\n",
            "\u001b[1m263/263\u001b[0m \u001b[32m━━━━━━━━━━━━━━━━━━━━\u001b[0m\u001b[37m\u001b[0m \u001b[1m3s\u001b[0m 13ms/step - accuracy: 0.9865 - loss: 0.0609 - val_accuracy: 0.9749 - val_loss: 0.2580\n",
            "Epoch 99/100\n",
            "\u001b[1m263/263\u001b[0m \u001b[32m━━━━━━━━━━━━━━━━━━━━\u001b[0m\u001b[37m\u001b[0m \u001b[1m3s\u001b[0m 12ms/step - accuracy: 0.9895 - loss: 0.0512 - val_accuracy: 0.9752 - val_loss: 0.2998\n",
            "Epoch 100/100\n",
            "\u001b[1m263/263\u001b[0m \u001b[32m━━━━━━━━━━━━━━━━━━━━\u001b[0m\u001b[37m\u001b[0m \u001b[1m7s\u001b[0m 20ms/step - accuracy: 0.9896 - loss: 0.0442 - val_accuracy: 0.9738 - val_loss: 0.2831\n"
          ]
        }
      ]
    },
    {
      "cell_type": "code",
      "source": [
        "plt.plot(hist.history['accuracy'])\n",
        "plt.plot(hist.history['val_accuracy'])\n",
        "plt.title('model accuracy')\n",
        "plt.ylabel('accuracy')\n",
        "plt.xlabel('epoch')\n",
        "plt.legend(['train','validation'],loc='upper left')"
      ],
      "metadata": {
        "colab": {
          "base_uri": "https://localhost:8080/",
          "height": 489
        },
        "id": "NkyJQBi-haoS",
        "outputId": "e0c21f38-d5c7-49c6-fa23-c83872416d2d"
      },
      "execution_count": 52,
      "outputs": [
        {
          "output_type": "execute_result",
          "data": {
            "text/plain": [
              "<matplotlib.legend.Legend at 0x78692ad846a0>"
            ]
          },
          "metadata": {},
          "execution_count": 52
        },
        {
          "output_type": "display_data",
          "data": {
            "text/plain": [
              "<Figure size 640x480 with 1 Axes>"
            ],
            "image/png": "[encoded data removed]"
          },
          "metadata": {}
        }
      ]
    },
    {
      "cell_type": "code",
      "source": [
        "plt.plot(hist.history['loss'])\n",
        "plt.plot(hist.history['val_loss'])\n",
        "plt.title('model loss')\n",
        "plt.ylabel('loss')\n",
        "plt.xlabel('epoch')\n",
        "plt.legend(['train','validation'],loc='upper left')"
      ],
      "metadata": {
        "colab": {
          "base_uri": "https://localhost:8080/",
          "height": 489
        },
        "id": "3WyQFuRriYN_",
        "outputId": "3a8311bc-49c8-4969-ec14-ab6f73f07e19"
      },
      "execution_count": 53,
      "outputs": [
        {
          "output_type": "execute_result",
          "data": {
            "text/plain": [
              "<matplotlib.legend.Legend at 0x78692db0f1f0>"
            ]
          },
          "metadata": {},
          "execution_count": 53
        },
        {
          "output_type": "display_data",
          "data": {
            "text/plain": [
              "<Figure size 640x480 with 1 Axes>"
            ],
            "image/png": "[encoded data removed]"
          },
          "metadata": {}
        }
      ]
    },
    {
      "cell_type": "code",
      "source": [
        "y_hat_train_dense=np.argmax(model.predict(x_train),axis=1)\n",
        "y_hat_test_dense=np.argmax(model.predict(x_test),axis=1)"
      ],
      "metadata": {
        "colab": {
          "base_uri": "https://localhost:8080/"
        },
        "id": "4RKA60euheTD",
        "outputId": "d10f5340-dc17-481f-b7eb-6741411ca58a"
      },
      "execution_count": 54,
      "outputs": [
        {
          "output_type": "stream",
          "name": "stdout",
          "text": [
            "\u001b[1m1050/1050\u001b[0m \u001b[32m━━━━━━━━━━━━━━━━━━━━\u001b[0m\u001b[37m\u001b[0m \u001b[1m3s\u001b[0m 3ms/step\n",
            "\u001b[1m263/263\u001b[0m \u001b[32m━━━━━━━━━━━━━━━━━━━━\u001b[0m\u001b[37m\u001b[0m \u001b[1m2s\u001b[0m 7ms/step\n"
          ]
        }
      ]
    },
    {
      "cell_type": "code",
      "source": [
        "y_hat_train_dense"
      ],
      "metadata": {
        "colab": {
          "base_uri": "https://localhost:8080/"
        },
        "id": "TD_KggXehhSA",
        "outputId": "96a05870-cd63-4752-fff5-610f807945a1"
      },
      "execution_count": 55,
      "outputs": [
        {
          "output_type": "execute_result",
          "data": {
            "text/plain": [
              "array([4, 7, 7, ..., 5, 6, 0])"
            ]
          },
          "metadata": {},
          "execution_count": 55
        }
      ]
    },
    {
      "cell_type": "code",
      "source": [
        "y_hat_test_dense"
      ],
      "metadata": {
        "colab": {
          "base_uri": "https://localhost:8080/"
        },
        "id": "IlzS_KV1hh6G",
        "outputId": "df82da1a-177d-4acf-f55d-083c466f33a0"
      },
      "execution_count": 56,
      "outputs": [
        {
          "output_type": "execute_result",
          "data": {
            "text/plain": [
              "array([7, 3, 9, ..., 6, 4, 1])"
            ]
          },
          "metadata": {},
          "execution_count": 56
        }
      ]
    },
    {
      "cell_type": "code",
      "source": [
        "model_eval(y_train,y_hat_train_dense)"
      ],
      "metadata": {
        "colab": {
          "base_uri": "https://localhost:8080/"
        },
        "id": "8FxtF6-Qi-xs",
        "outputId": "5bdc8a7f-a6ce-4087-8043-1b43fe71c0fc"
      },
      "execution_count": 57,
      "outputs": [
        {
          "output_type": "stream",
          "name": "stdout",
          "text": [
            "Accuracy Score:0.9972619047619048\n",
            "Classification Report:              precision    recall  f1-score   support\n",
            "\n",
            "           0       1.00      1.00      1.00      3336\n",
            "           1       1.00      1.00      1.00      3738\n",
            "           2       1.00      1.00      1.00      3321\n",
            "           3       1.00      0.99      1.00      3495\n",
            "           4       1.00      1.00      1.00      3246\n",
            "           5       1.00      1.00      1.00      3022\n",
            "           6       1.00      1.00      1.00      3350\n",
            "           7       1.00      1.00      1.00      3532\n",
            "           8       0.99      1.00      0.99      3227\n",
            "           9       1.00      1.00      1.00      3333\n",
            "\n",
            "    accuracy                           1.00     33600\n",
            "   macro avg       1.00      1.00      1.00     33600\n",
            "weighted avg       1.00      1.00      1.00     33600\n",
            "\n",
            "Confusion Matrix:[[3320    0    0    0    0    0    3    0   13    0]\n",
            " [   0 3732    0    0    0    0    1    2    3    0]\n",
            " [   0    0 3314    2    0    0    0    1    4    0]\n",
            " [   0    0    5 3476    0    4    0    0    7    3]\n",
            " [   0    0    0    0 3242    0    0    0    1    3]\n",
            " [   0    0    0    1    0 3017    1    0    3    0]\n",
            " [   0    0    0    0    0    1 3349    0    0    0]\n",
            " [   0    1    5    0    0    0    0 3523    1    2]\n",
            " [   0    2    1    1    0    0    2    0 3216    5]\n",
            " [   0    0    0    4    4    1    0    0    5 3319]]\n"
          ]
        }
      ]
    },
    {
      "cell_type": "code",
      "source": [
        "model_eval(y_test,y_hat_test_dense)"
      ],
      "metadata": {
        "colab": {
          "base_uri": "https://localhost:8080/"
        },
        "id": "iDsW00JGhn_X",
        "outputId": "9bccf0ea-0e75-4fb7-9535-06e6d66f1f5e"
      },
      "execution_count": 58,
      "outputs": [
        {
          "output_type": "stream",
          "name": "stdout",
          "text": [
            "Accuracy Score:0.9738095238095238\n",
            "Classification Report:              precision    recall  f1-score   support\n",
            "\n",
            "           0       0.99      0.97      0.98       796\n",
            "           1       0.98      0.99      0.99       946\n",
            "           2       0.96      0.99      0.97       856\n",
            "           3       0.96      0.97      0.97       856\n",
            "           4       0.97      0.98      0.97       826\n",
            "           5       0.97      0.97      0.97       773\n",
            "           6       0.98      0.99      0.98       787\n",
            "           7       0.98      0.96      0.97       869\n",
            "           8       0.96      0.96      0.96       836\n",
            "           9       0.98      0.96      0.97       855\n",
            "\n",
            "    accuracy                           0.97      8400\n",
            "   macro avg       0.97      0.97      0.97      8400\n",
            "weighted avg       0.97      0.97      0.97      8400\n",
            "\n",
            "Confusion Matrix:[[776   0   0   1   2   0   3   1  10   3]\n",
            " [  0 938   1   1   2   0   0   1   2   1]\n",
            " [  1   3 844   2   2   0   0   1   3   0]\n",
            " [  1   0   8 832   0   8   0   1   6   0]\n",
            " [  1   1   5   0 807   1   4   2   0   5]\n",
            " [  1   1   2   8   0 747   7   0   7   0]\n",
            " [  3   2   0   0   2   1 778   0   1   0]\n",
            " [  1   0  12   4   2   3   0 838   1   8]\n",
            " [  0   8   6   6   2   5   2   3 800   4]\n",
            " [  0   0   1   9  11   6   0   4   4 820]]\n"
          ]
        }
      ]
    },
    {
      "cell_type": "code",
      "source": [],
      "metadata": {
        "id": "ow5hO_fyjMtC"
      },
      "execution_count": null,
      "outputs": []
    }
  ],
  "metadata": {
    "colab": {
      "provenance": []
    },
    "kernelspec": {
      "display_name": "Python 3",
      "name": "python3"
    },
    "language_info": {
      "name": "python"
    }
  },
  "nbformat": 4,
  "nbformat_minor": 0
}